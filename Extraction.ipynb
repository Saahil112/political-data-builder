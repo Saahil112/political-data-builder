{
 "cells": [
  {
   "cell_type": "markdown",
   "metadata": {},
   "source": [
    "# Extraction of Data From Zipped Files\n",
    "**Overview:** This File will have the function Zip_Extractor(place) which will extract the data from the zipped files. \n",
    "    "
   ]
  },
  {
   "cell_type": "code",
   "execution_count": 8,
   "metadata": {},
   "outputs": [],
   "source": [
    "import pandas as pd\n",
    "import janitor\n",
    "from zipfile import ZipFile \n",
    "import os"
   ]
  },
  {
   "cell_type": "code",
   "execution_count": 9,
   "metadata": {},
   "outputs": [],
   "source": [
    "#Global Variables\n",
    "\n",
    "#keys: State_typeOfFile        Item: DataFrame\n",
    "place_dic = {}"
   ]
  },
  {
   "cell_type": "code",
   "execution_count": 10,
   "metadata": {},
   "outputs": [
    {
     "data": {
      "text/plain": [
       "51"
      ]
     },
     "execution_count": 10,
     "metadata": {},
     "output_type": "execute_result"
    }
   ],
   "source": [
    "states_dict = {\n",
    "    \"Alaska\" : \"VM2--AK--2020-03-18\",\n",
    "    \"Alabama\" : \"VM2--AL--2020-02-24,\",\n",
    "    \"Arkansas\" : \"VM2--AR--2020-02-24\",\n",
    "    \"Arizona\": \"VM2--AZ--2020-02-19\", \n",
    "    \"California\": \"VM2--CA--2020-03-25\", \n",
    "    \"Colorado\": \"VM2--CO--2020-02-26\",\n",
    "    \"Connecticut\": \"VM2--CT--2020-03-26\",\n",
    "    \"DC\": \"VM2--DC--2020-03-02\",\n",
    "    \"Delaware\": \"VM2--DE--2020-03-30\",\n",
    "    \"Florida\": \"VM2--FL--2020-07-30\",\n",
    "    \"Georgia\": \"VM2--GA--2020-03-02\",\n",
    "    \"Hawaii\": \"VM2--HI--2020-03-02\",\n",
    "    \"Iowa\": \"VM2--IA--2020-03-03\",\n",
    "    \"Idaho\": \"VM2--ID--2020-03-27\",\n",
    "    \"Illinois\": \"VM2--IL--2020-03-03\",\n",
    "    \"Indiana\": \"VM2--IN--2020-02-27\",\n",
    "    \"Kansas\": \"VM2--KS--2020-03-18\",\n",
    "    \"Kentucky\": \"VM2--KY--2020-02-26\",\n",
    "    \"Louisiana\": \"VM2--LA--2020-02-27\",\n",
    "    \"Massachusetts\": \"VM2--MA--2020-02-19\",\n",
    "    \"Maryland\": \"VM2--MD--2020-02-28\",\n",
    "    \"Maine\": \"VM2--ME--2020-02-24\",\n",
    "    \"Michigan\": \"VM2--MI--2020-03-02\",\n",
    "    \"Minnesota\": \"VM2--MN--2020-02-25\",\n",
    "    \"Missouri\": \"VM2--MO--2020-03-05\",\n",
    "    \"Mississippi\": \"VM2--MS--2020-03-20\",\n",
    "    \"Montana\": \"VM2--MT--2020-03-14\",\n",
    "    \"North Carolina\": \"VM2--NC--2020-02-29\",\n",
    "    \"North Dakota\": \"VM2--ND--2020-02-28\",\n",
    "    \"Nebraska\": \"VM2--NE--2020-03-18\",\n",
    "    \"North Hampshire\": \"VM2--NH--2020-03-03\",\n",
    "    \"New Jersey\": \"VM2--NJ--2020-02-26\",\n",
    "    \"New Mexico\": \"VM2--NM--2020-02-24\",\n",
    "    \"Nevada\": \"VM2--NV--2020-02-22\",\n",
    "    \"New York\": \"VM2--NY--2020-03-05\",\n",
    "    \"Ohio\": \"VM2--OH--2020-02-28\",\n",
    "    \"Oklahoma\": \"VM2--OK--2020-02-25\",\n",
    "    \"Oregon\": \"VM2--OR--2020-02-25\",\n",
    "    \"Philadelphia\": \"VM2--PA--2020-03-20\",\n",
    "    \"Rhode Island\": \"VM2--RI--2020-02-28\",\n",
    "    \"South Carolina\": \"VM2--SC--2020-02-21\",\n",
    "    \"South Dakota\": \"VM2--SD--2020-02-25\",\n",
    "    \"Tennessee\": \"VM2--TN--2020-03-31\",\n",
    "    \"Texas\": \"VM2--TX--2020-03-02\",\n",
    "    \"Utah\": \"VM2--UT--2020-04-07\",\n",
    "    \"Virginia\": \"VM2--VA--2020-03-01\",\n",
    "    \"Vermont\": \"VM2--VT--2020-02-27\",\n",
    "    \"Washington\": \"VM2--WA--2020-04-20\",\n",
    "    \"Wisconsin\": \"VM2--WI--2020-03-21\",\n",
    "    \"West Virginia\": \"VM2--WV--2020-03-29\",\n",
    "    \"Wyoming\": \"VM2--WY--2020-03-02\"\n",
    "}\n",
    "len(states_dict)"
   ]
  },
  {
   "cell_type": "code",
   "execution_count": 11,
   "metadata": {},
   "outputs": [],
   "source": [
    "def zip_extractor(place):\n",
    "    # if there's an error, try \\ instead of /\n",
    "    file_name = \"//storage.rcs.nyu.edu/L2_Political/03-01-2020-delivery/files-by-state/\"+ place + \".zip\"\n",
    "    # opening the zip file in READ mode \n",
    "    zip = ZipFile(file_name,'r') \n",
    "\n",
    "    demographics_file = zip.open(place + \"-DEMOGRAPHIC.tab\")\n",
    "    vote_history_file = zip.open(place + \"-VOTEHISTORY.tab\")\n",
    "    zip.close()\n",
    "    demographics = pd.read_csv(demographics_file, \n",
    "                                sep='\\t', dtype=str, encoding='unicode_escape',\n",
    "                               nrows=100)\n",
    "    vote_history = pd.read_csv(vote_history_file, \n",
    "                                sep='\\t', dtype=str, encoding='unicode_escape',\n",
    "                                nrows=100)\n",
    "    \n",
    "    return demographics, vote_history"
   ]
  },
  {
   "cell_type": "code",
   "execution_count": 12,
   "metadata": {},
   "outputs": [],
   "source": [
    "#Iterates through all of the files by state and unzips \n",
    "def create_df(): \n",
    "    for file in os.listdir('//storage.rcs.nyu.edu/L2_Political/03-01-2020-delivery/files-by-state/'):\n",
    "        rename = file[file.find(\"--\")+2:file.find(\"-2\")-1]\n",
    "\n",
    "        place = file[:file.find(\".zip\")]\n",
    "        demographics, vote_history = zip_extractor(place)\n",
    "\n",
    "        place_dic[\"%s_demographic\" %rename] = demographics\n",
    "        place_dic[\"%s_voting_history\" %rename] = vote_history\n"
   ]
  },
  {
   "cell_type": "code",
   "execution_count": 13,
   "metadata": {},
   "outputs": [
    {
     "data": {
      "text/plain": [
       "dict_keys([])"
      ]
     },
     "execution_count": 13,
     "metadata": {},
     "output_type": "execute_result"
    }
   ],
   "source": [
    "def get_state_keys(): \n",
    "    return place_dic.keys()\n",
    "get_state_keys()"
   ]
  },
  {
   "cell_type": "markdown",
   "metadata": {},
   "source": [
    "# Removing Null"
   ]
  },
  {
   "cell_type": "code",
   "execution_count": null,
   "metadata": {},
   "outputs": [],
   "source": [
    "#Remove null with threshold of 95% \n",
    "def remove_null(): \n",
    "    for key in place_dic.keys(): \n",
    "                        #finds 95% of columns \n",
    "        threshold = int(place_dic[key].shape[1] * 0.75)\n",
    "        place_dic[key].dropna(thresh=threshold)\n",
    "        \n",
    "remove_null()\n"
   ]
  },
  {
   "cell_type": "markdown",
   "metadata": {},
   "source": [
    "# Sampling Methods\n",
    "\n",
    "**Simple Random Sampling** everymemeber of the population has an equal chance of being selected \n",
    "\n",
    "**Stratified Sampling** Dividing the population into subpopulations that may differ in important ways. It allows you to draw more precise conclussions by measuring that each subgroup is represented.\n",
    "\n",
    "**Clustering** Dividing the population into subgroups, but each subgroup has similar characteristics. Randomly select the subgroups instead of sampling individuals from subgroup."
   ]
  },
  {
   "cell_type": "code",
   "execution_count": 11,
   "metadata": {},
   "outputs": [],
   "source": [
    "def merge(state_demographic, state_vote_history):\n",
    "    merged_file = pd.merge(state_vote_history, state_demographic,\n",
    "                       how='left', left_on='LALVOTERID', right_on='LALVOTERID')\n",
    "    \n",
    "    return merged_file"
   ]
  },
  {
   "cell_type": "code",
   "execution_count": 52,
   "metadata": {},
   "outputs": [],
   "source": [
    "#TODO: should have more types of sampling; with/without replacement etc\n",
    "def get_sample(file, sample_size):\n",
    "    return file.sample(frac=sample_size)\n",
    "\n",
    "#stratified sampling\n",
    "#choose equal sample sizes from each \n",
    "def build_stratified_national_sample(sample_size):\n",
    "    national_sample = get_sample(AK, sample_size)\n",
    "    for df in place_dic.items():\n",
    "        national_sample = pd.concat(get_sample(df, sample_size), axis=0)\n",
    "    print(res)\n",
    "    \n",
    "#simple random sampling\n",
    "#choose randomly from national dataset\n",
    "def build_simple_random_national_sample(sample_size):\n",
    "    total_rows = 0\n",
    "    for df in place_dic.items():\n",
    "        total_rows.append(len(df))\n",
    "    national_sample = get_sample(AK, len(AK)/total_rows)\n",
    "    for file in files:\n",
    "        national_sample = pd.concat([national_sample, get_sample(file, len(file)/total_rows)], axis = 0)\n",
    "        "
   ]
  },
  {
   "cell_type": "code",
   "execution_count": null,
   "metadata": {},
   "outputs": [],
   "source": [
    "#Clustering based on ____input____\n",
    "def cluster_on_input(column): \n",
    "    pass\n",
    "    \n",
    "#TODO K-means clustering \n",
    "    "
   ]
  },
  {
   "cell_type": "code",
   "execution_count": 54,
   "metadata": {},
   "outputs": [
    {
     "ename": "NameError",
     "evalue": "name 'AK' is not defined",
     "output_type": "error",
     "traceback": [
      "\u001b[1;31m---------------------------------------------------------------------------\u001b[0m",
      "\u001b[1;31mNameError\u001b[0m                                 Traceback (most recent call last)",
      "\u001b[1;32m<ipython-input-54-0d488fc9a05e>\u001b[0m in \u001b[0;36m<module>\u001b[1;34m\u001b[0m\n\u001b[0;32m      4\u001b[0m \u001b[0mex_sample\u001b[0m \u001b[1;33m=\u001b[0m \u001b[0mget_sample\u001b[0m\u001b[1;33m(\u001b[0m\u001b[0mplace_dic\u001b[0m\u001b[1;33m[\u001b[0m\u001b[1;34m\"CT_demographic\"\u001b[0m\u001b[1;33m]\u001b[0m\u001b[1;33m,\u001b[0m\u001b[1;36m0.1\u001b[0m\u001b[1;33m)\u001b[0m\u001b[1;33m\u001b[0m\u001b[1;33m\u001b[0m\u001b[0m\n\u001b[0;32m      5\u001b[0m \u001b[1;33m\u001b[0m\u001b[0m\n\u001b[1;32m----> 6\u001b[1;33m \u001b[0mbuild_stratified_national_sample\u001b[0m\u001b[1;33m(\u001b[0m\u001b[1;36m10\u001b[0m\u001b[1;33m)\u001b[0m\u001b[1;33m\u001b[0m\u001b[1;33m\u001b[0m\u001b[0m\n\u001b[0m",
      "\u001b[1;32m<ipython-input-52-f22369a5fda8>\u001b[0m in \u001b[0;36mbuild_stratified_national_sample\u001b[1;34m(sample_size)\u001b[0m\n\u001b[0;32m      6\u001b[0m \u001b[1;31m#choose equal sample sizes from each\u001b[0m\u001b[1;33m\u001b[0m\u001b[1;33m\u001b[0m\u001b[1;33m\u001b[0m\u001b[0m\n\u001b[0;32m      7\u001b[0m \u001b[1;32mdef\u001b[0m \u001b[0mbuild_stratified_national_sample\u001b[0m\u001b[1;33m(\u001b[0m\u001b[0msample_size\u001b[0m\u001b[1;33m)\u001b[0m\u001b[1;33m:\u001b[0m\u001b[1;33m\u001b[0m\u001b[1;33m\u001b[0m\u001b[0m\n\u001b[1;32m----> 8\u001b[1;33m     \u001b[0mnational_sample\u001b[0m \u001b[1;33m=\u001b[0m \u001b[0mget_sample\u001b[0m\u001b[1;33m(\u001b[0m\u001b[0mAK\u001b[0m\u001b[1;33m,\u001b[0m \u001b[0msample_size\u001b[0m\u001b[1;33m)\u001b[0m\u001b[1;33m\u001b[0m\u001b[1;33m\u001b[0m\u001b[0m\n\u001b[0m\u001b[0;32m      9\u001b[0m     \u001b[1;32mfor\u001b[0m \u001b[0mdf\u001b[0m \u001b[1;32min\u001b[0m \u001b[0mplace_dic\u001b[0m\u001b[1;33m.\u001b[0m\u001b[0mitems\u001b[0m\u001b[1;33m(\u001b[0m\u001b[1;33m)\u001b[0m\u001b[1;33m:\u001b[0m\u001b[1;33m\u001b[0m\u001b[1;33m\u001b[0m\u001b[0m\n\u001b[0;32m     10\u001b[0m         \u001b[0mnational_sample\u001b[0m \u001b[1;33m=\u001b[0m \u001b[0mpd\u001b[0m\u001b[1;33m.\u001b[0m\u001b[0mconcat\u001b[0m\u001b[1;33m(\u001b[0m\u001b[0mget_sample\u001b[0m\u001b[1;33m(\u001b[0m\u001b[0mdf\u001b[0m\u001b[1;33m,\u001b[0m \u001b[0msample_size\u001b[0m\u001b[1;33m)\u001b[0m\u001b[1;33m,\u001b[0m \u001b[0maxis\u001b[0m\u001b[1;33m=\u001b[0m\u001b[1;36m0\u001b[0m\u001b[1;33m)\u001b[0m\u001b[1;33m\u001b[0m\u001b[1;33m\u001b[0m\u001b[0m\n",
      "\u001b[1;31mNameError\u001b[0m: name 'AK' is not defined"
     ]
    }
   ],
   "source": [
    "#calling the Sampling Functions\n",
    "merged_CT = merge(place_dic[\"CT_demographic\"], place_dic[\"CT_voting_history\"])\n",
    "\n",
    "ex_sample = get_sample(place_dic[\"CT_demographic\"],0.1)\n",
    "\n",
    "build_stratified_national_sample(10)\n"
   ]
  },
  {
   "cell_type": "code",
   "execution_count": null,
   "metadata": {},
   "outputs": [],
   "source": []
  },
  {
   "cell_type": "markdown",
   "metadata": {},
   "source": [
    "# What is a Better Predictors\n"
   ]
  },
  {
   "cell_type": "code",
   "execution_count": null,
   "metadata": {},
   "outputs": [],
   "source": [
    "#Simple Correlations\n",
    "\n",
    "#Pearson\n",
    "\n",
    "#Expects two columns to compare\n",
    "def correlation(column1, column2):\n",
    "    return place_dic[column1].corr(place_dic[column2])\n",
    "    \n",
    "#Spearman\n",
    "def spearman_corr(column1, column2): \n",
    "    return place_dic[column1].corr(place_dic[column2], method='spearman')\n"
   ]
  },
  {
   "cell_type": "code",
   "execution_count": null,
   "metadata": {},
   "outputs": [],
   "source": []
  },
  {
   "cell_type": "markdown",
   "metadata": {},
   "source": [
    "# Ideas  for What can tell from data "
   ]
  },
  {
   "cell_type": "markdown",
   "metadata": {},
   "source": [
    " - Is there any evidence that _______ impacts ______ or ______ ?\n",
    " - balance checking in areas\n",
    " - linear regression\n",
    " - some tests from Causal Inference"
   ]
  }
 ],
 "metadata": {
  "kernelspec": {
   "display_name": "Python 3",
   "language": "python",
   "name": "python3"
  },
  "language_info": {
   "codemirror_mode": {
    "name": "ipython",
    "version": 3
   },
   "file_extension": ".py",
   "mimetype": "text/x-python",
   "name": "python",
   "nbconvert_exporter": "python",
   "pygments_lexer": "ipython3",
   "version": "3.8.3"
  }
 },
 "nbformat": 4,
 "nbformat_minor": 4
}

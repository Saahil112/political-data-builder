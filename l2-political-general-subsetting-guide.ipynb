{
 "cells": [
  {
   "cell_type": "markdown",
   "metadata": {},
   "source": [
    "<img align=\"right\" width=\"300\" src=\"https://data-services.hosting.nyu.edu/assets/libraries_short_color.png\" alt=\"NYU Libraries Logo\">\n",
    "\n",
    "# Guidance for working with L2 political data voter files\n",
    "\n",
    "**Overview:** The L2 Political files come in two parts for each state: Demographic indicators and Voter History. Both are .tab files (tab delimited) and will need to be extracted. It is likely that you'll need to use a command line tool to decompress each archive. \n",
    "\n",
    "For larger states, you will want to redact parts of these files by only loading the minimum number of variables that you need into memory, merge them together, then sample them in order to perform analysis.\n",
    "\n",
    "This notebook is designed to provide some guidance on working with the data and creating extracts in a memory-efficient manner. It uses Python Libraries that are included with the Anacondas distribution, with the exception of [Pyjanitor](https://pyjanitor.readthedocs.io/index.html). In order to install it, run\n",
    "\n",
    "`conda install pyjanitor -c conda-forge`\n",
    "\n",
    "The conda distribution here seems to work the best (as opposed to pip). See the documentation for each of these libraries (especially Pandas) for more information. You will need to restart your Kernel and notebook before proceeding if you haven't already installed Pyjanitor. \n",
    "\n",
    "Users are expected to have agreed to the Terms of Use and should create redacted versions of the data that strip out identifying information and load only variables that are important for analysis. For the latest documentation, visit the [L2 Political LibGuide](https://guides.nyu.edu/l2political)"
   ]
  },
  {
   "cell_type": "markdown",
   "metadata": {},
   "source": [
    "## I. Loading Python modules and L2 Data\n",
    "\n",
    "Begin by importing some basic libraries to work with the data "
   ]
  },
  {
   "cell_type": "code",
   "execution_count": 88,
   "metadata": {},
   "outputs": [],
   "source": [
    "import pandas as pd\n",
    "import numpy as np\n",
    "#from sklearn.experimental import enable_iterative_imputer\n",
    "#from sklearn.impute import IterativeImputer\n",
    "#import janitor"
   ]
  },
  {
   "cell_type": "markdown",
   "metadata": {},
   "source": [
    "**Loading .tab files**\n",
    "\n",
    "First, we read in the .tab file of demographic variables, declare the tab as the separator, and set the encoding\n",
    "\n",
    "There are 646 columns in the demographic file, and it's better to set the datetype as string (labeled \"object\" in Pandas) for each of them and only load certian columns to cut down on memory usage.\n",
    "\n",
    "Declare the columns you want; see the codebook for the full list and don't take PID columns.\n"
   ]
  },
  {
   "cell_type": "code",
   "execution_count": 2,
   "metadata": {
    "scrolled": true
   },
   "outputs": [
    {
     "data": {
      "text/html": [
       "<div>\n",
       "<style scoped>\n",
       "    .dataframe tbody tr th:only-of-type {\n",
       "        vertical-align: middle;\n",
       "    }\n",
       "\n",
       "    .dataframe tbody tr th {\n",
       "        vertical-align: top;\n",
       "    }\n",
       "\n",
       "    .dataframe thead th {\n",
       "        text-align: right;\n",
       "    }\n",
       "</style>\n",
       "<table border=\"1\" class=\"dataframe\">\n",
       "  <thead>\n",
       "    <tr style=\"text-align: right;\">\n",
       "      <th></th>\n",
       "      <th>LALVOTERID</th>\n",
       "      <th>Residence_Addresses_Latitude</th>\n",
       "      <th>Residence_Addresses_Longitude</th>\n",
       "      <th>Voters_Gender</th>\n",
       "      <th>Voters_FIPS</th>\n",
       "    </tr>\n",
       "  </thead>\n",
       "  <tbody>\n",
       "    <tr>\n",
       "      <th>0</th>\n",
       "      <td>LALVA167958824</td>\n",
       "      <td>37.901764</td>\n",
       "      <td>-75.505997</td>\n",
       "      <td>F</td>\n",
       "      <td>001</td>\n",
       "    </tr>\n",
       "    <tr>\n",
       "      <th>1</th>\n",
       "      <td>LALVA516951467</td>\n",
       "      <td>37.901764</td>\n",
       "      <td>-75.505997</td>\n",
       "      <td>M</td>\n",
       "      <td>001</td>\n",
       "    </tr>\n",
       "    <tr>\n",
       "      <th>2</th>\n",
       "      <td>LALVA462558999</td>\n",
       "      <td>37.901343</td>\n",
       "      <td>-75.566436</td>\n",
       "      <td>F</td>\n",
       "      <td>001</td>\n",
       "    </tr>\n",
       "    <tr>\n",
       "      <th>3</th>\n",
       "      <td>LALVA462552402</td>\n",
       "      <td>37.901343</td>\n",
       "      <td>-75.566436</td>\n",
       "      <td>M</td>\n",
       "      <td>001</td>\n",
       "    </tr>\n",
       "    <tr>\n",
       "      <th>4</th>\n",
       "      <td>LALVA4161517</td>\n",
       "      <td>37.807510</td>\n",
       "      <td>-75.607740</td>\n",
       "      <td>M</td>\n",
       "      <td>001</td>\n",
       "    </tr>\n",
       "  </tbody>\n",
       "</table>\n",
       "</div>"
      ],
      "text/plain": [
       "       LALVOTERID Residence_Addresses_Latitude Residence_Addresses_Longitude  \\\n",
       "0  LALVA167958824                    37.901764                    -75.505997   \n",
       "1  LALVA516951467                    37.901764                    -75.505997   \n",
       "2  LALVA462558999                    37.901343                    -75.566436   \n",
       "3  LALVA462552402                    37.901343                    -75.566436   \n",
       "4    LALVA4161517                    37.807510                    -75.607740   \n",
       "\n",
       "  Voters_Gender Voters_FIPS  \n",
       "0             F         001  \n",
       "1             M         001  \n",
       "2             F         001  \n",
       "3             M         001  \n",
       "4             M         001  "
      ]
     },
     "execution_count": 2,
     "metadata": {},
     "output_type": "execute_result"
    }
   ],
   "source": [
    "selected_variables = ['LALVOTERID',\n",
    "                      'Residence_Addresses_Latitude',\n",
    "                      'Residence_Addresses_Longitude',\n",
    "                      'Voters_Gender',\n",
    "                      'Voters_FIPS']\n",
    "\n",
    "## Change the file path below accordingly to point toward the relevant file. Note that this data loading step below\n",
    "## will take the longest out of any step for your computer to process\n",
    "\n",
    "state_demographic = pd.read_csv('VM2--VA--2020-03-01-DEMOGRAPHIC.tab', \n",
    "                                sep='\\t', dtype=str, encoding='unicode_escape',\n",
    "                                usecols=selected_variables)\n",
    "\n",
    "## Preview of the first 5 rows of the data subset. \n",
    "\n",
    "state_demographic.head(5)"
   ]
  },
  {
   "cell_type": "markdown",
   "metadata": {},
   "source": [
    "It's also not a bad idea to test the length of the entire file and verify it with the number of records on the documentation"
   ]
  },
  {
   "cell_type": "code",
   "execution_count": 3,
   "metadata": {
    "scrolled": true
   },
   "outputs": [
    {
     "data": {
      "text/plain": [
       "5264320"
      ]
     },
     "execution_count": 3,
     "metadata": {},
     "output_type": "execute_result"
    }
   ],
   "source": [
    "len(state_demographic)"
   ]
  },
  {
   "cell_type": "markdown",
   "metadata": {},
   "source": [
    "You can also run .info to get a breakdown, including how much memory the data frame is eating up.\n",
    "\n",
    "This will give you context for how much your computer can handle."
   ]
  },
  {
   "cell_type": "code",
   "execution_count": 4,
   "metadata": {},
   "outputs": [
    {
     "name": "stdout",
     "output_type": "stream",
     "text": [
      "<class 'pandas.core.frame.DataFrame'>\n",
      "RangeIndex: 5264320 entries, 0 to 5264319\n",
      "Data columns (total 5 columns):\n",
      " #   Column                         Dtype \n",
      "---  ------                         ----- \n",
      " 0   LALVOTERID                     object\n",
      " 1   Residence_Addresses_Latitude   object\n",
      " 2   Residence_Addresses_Longitude  object\n",
      " 3   Voters_Gender                  object\n",
      " 4   Voters_FIPS                    object\n",
      "dtypes: object(5)\n",
      "memory usage: 200.8+ MB\n"
     ]
    }
   ],
   "source": [
    "state_demographic.info()"
   ]
  },
  {
   "cell_type": "markdown",
   "metadata": {},
   "source": [
    "Next, we will read into memory the voter history file that corresponds to the state.\n",
    "\n",
    "This time, we make sure to include the *LALVOTERID* column, and we will add whether or not they voted in 2016."
   ]
  },
  {
   "cell_type": "code",
   "execution_count": 5,
   "metadata": {},
   "outputs": [
    {
     "data": {
      "text/html": [
       "<div>\n",
       "<style scoped>\n",
       "    .dataframe tbody tr th:only-of-type {\n",
       "        vertical-align: middle;\n",
       "    }\n",
       "\n",
       "    .dataframe tbody tr th {\n",
       "        vertical-align: top;\n",
       "    }\n",
       "\n",
       "    .dataframe thead th {\n",
       "        text-align: right;\n",
       "    }\n",
       "</style>\n",
       "<table border=\"1\" class=\"dataframe\">\n",
       "  <thead>\n",
       "    <tr style=\"text-align: right;\">\n",
       "      <th></th>\n",
       "      <th>LALVOTERID</th>\n",
       "      <th>General_2016_11_08</th>\n",
       "    </tr>\n",
       "  </thead>\n",
       "  <tbody>\n",
       "    <tr>\n",
       "      <th>0</th>\n",
       "      <td>LALVA167958824</td>\n",
       "      <td>Y</td>\n",
       "    </tr>\n",
       "    <tr>\n",
       "      <th>1</th>\n",
       "      <td>LALVA516951467</td>\n",
       "      <td>NaN</td>\n",
       "    </tr>\n",
       "    <tr>\n",
       "      <th>2</th>\n",
       "      <td>LALVA462558999</td>\n",
       "      <td>Y</td>\n",
       "    </tr>\n",
       "    <tr>\n",
       "      <th>3</th>\n",
       "      <td>LALVA462552402</td>\n",
       "      <td>Y</td>\n",
       "    </tr>\n",
       "    <tr>\n",
       "      <th>4</th>\n",
       "      <td>LALVA4161517</td>\n",
       "      <td>Y</td>\n",
       "    </tr>\n",
       "  </tbody>\n",
       "</table>\n",
       "</div>"
      ],
      "text/plain": [
       "       LALVOTERID General_2016_11_08\n",
       "0  LALVA167958824                  Y\n",
       "1  LALVA516951467                NaN\n",
       "2  LALVA462558999                  Y\n",
       "3  LALVA462552402                  Y\n",
       "4    LALVA4161517                  Y"
      ]
     },
     "execution_count": 5,
     "metadata": {},
     "output_type": "execute_result"
    }
   ],
   "source": [
    "needed_variables = ['LALVOTERID', 'General_2016_11_08']\n",
    "\n",
    "state_voterhistory = pd.read_csv('VM2--VA--2020-03-01-VOTEHISTORY.tab',\n",
    "                                 sep='\\t', dtype=str, encoding='unicode_escape',\n",
    "                                 usecols=needed_variables)\n",
    "                                \n",
    "state_voterhistory.head(5)"
   ]
  },
  {
   "cell_type": "code",
   "execution_count": 6,
   "metadata": {},
   "outputs": [
    {
     "name": "stdout",
     "output_type": "stream",
     "text": [
      "<class 'pandas.core.frame.DataFrame'>\n",
      "RangeIndex: 5264320 entries, 0 to 5264319\n",
      "Data columns (total 2 columns):\n",
      " #   Column              Dtype \n",
      "---  ------              ----- \n",
      " 0   LALVOTERID          object\n",
      " 1   General_2016_11_08  object\n",
      "dtypes: object(2)\n",
      "memory usage: 80.3+ MB\n"
     ]
    }
   ],
   "source": [
    "## Again, I will want to run an .info command to test the size and memory\n",
    "\n",
    "state_voterhistory.info()"
   ]
  },
  {
   "cell_type": "markdown",
   "metadata": {},
   "source": [
    "## II. Join of Demographic and Voter History Tables\n",
    "\n",
    "Now that I have established a two reduced tables with a connection, I can join them (using the merge method in Pandas) based on the *LALVOTERID* common key\n"
   ]
  },
  {
   "cell_type": "code",
   "execution_count": 7,
   "metadata": {},
   "outputs": [
    {
     "data": {
      "text/html": [
       "<div>\n",
       "<style scoped>\n",
       "    .dataframe tbody tr th:only-of-type {\n",
       "        vertical-align: middle;\n",
       "    }\n",
       "\n",
       "    .dataframe tbody tr th {\n",
       "        vertical-align: top;\n",
       "    }\n",
       "\n",
       "    .dataframe thead th {\n",
       "        text-align: right;\n",
       "    }\n",
       "</style>\n",
       "<table border=\"1\" class=\"dataframe\">\n",
       "  <thead>\n",
       "    <tr style=\"text-align: right;\">\n",
       "      <th></th>\n",
       "      <th>LALVOTERID</th>\n",
       "      <th>General_2016_11_08</th>\n",
       "      <th>Residence_Addresses_Latitude</th>\n",
       "      <th>Residence_Addresses_Longitude</th>\n",
       "      <th>Voters_Gender</th>\n",
       "      <th>Voters_FIPS</th>\n",
       "    </tr>\n",
       "  </thead>\n",
       "  <tbody>\n",
       "    <tr>\n",
       "      <th>0</th>\n",
       "      <td>LALVA167958824</td>\n",
       "      <td>Y</td>\n",
       "      <td>37.901764</td>\n",
       "      <td>-75.505997</td>\n",
       "      <td>F</td>\n",
       "      <td>001</td>\n",
       "    </tr>\n",
       "    <tr>\n",
       "      <th>1</th>\n",
       "      <td>LALVA516951467</td>\n",
       "      <td>NaN</td>\n",
       "      <td>37.901764</td>\n",
       "      <td>-75.505997</td>\n",
       "      <td>M</td>\n",
       "      <td>001</td>\n",
       "    </tr>\n",
       "    <tr>\n",
       "      <th>2</th>\n",
       "      <td>LALVA462558999</td>\n",
       "      <td>Y</td>\n",
       "      <td>37.901343</td>\n",
       "      <td>-75.566436</td>\n",
       "      <td>F</td>\n",
       "      <td>001</td>\n",
       "    </tr>\n",
       "    <tr>\n",
       "      <th>3</th>\n",
       "      <td>LALVA462552402</td>\n",
       "      <td>Y</td>\n",
       "      <td>37.901343</td>\n",
       "      <td>-75.566436</td>\n",
       "      <td>M</td>\n",
       "      <td>001</td>\n",
       "    </tr>\n",
       "    <tr>\n",
       "      <th>4</th>\n",
       "      <td>LALVA4161517</td>\n",
       "      <td>Y</td>\n",
       "      <td>37.807510</td>\n",
       "      <td>-75.607740</td>\n",
       "      <td>M</td>\n",
       "      <td>001</td>\n",
       "    </tr>\n",
       "  </tbody>\n",
       "</table>\n",
       "</div>"
      ],
      "text/plain": [
       "       LALVOTERID General_2016_11_08 Residence_Addresses_Latitude  \\\n",
       "0  LALVA167958824                  Y                    37.901764   \n",
       "1  LALVA516951467                NaN                    37.901764   \n",
       "2  LALVA462558999                  Y                    37.901343   \n",
       "3  LALVA462552402                  Y                    37.901343   \n",
       "4    LALVA4161517                  Y                    37.807510   \n",
       "\n",
       "  Residence_Addresses_Longitude Voters_Gender Voters_FIPS  \n",
       "0                    -75.505997             F         001  \n",
       "1                    -75.505997             M         001  \n",
       "2                    -75.566436             F         001  \n",
       "3                    -75.566436             M         001  \n",
       "4                    -75.607740             M         001  "
      ]
     },
     "execution_count": 7,
     "metadata": {},
     "output_type": "execute_result"
    }
   ],
   "source": [
    "merged_file = pd.merge(state_voterhistory, state_demographic,\n",
    "                       how='left', left_on='LALVOTERID', right_on='LALVOTERID')\n",
    "\n",
    "merged_file.head(5)"
   ]
  },
  {
   "cell_type": "markdown",
   "metadata": {},
   "source": [
    "## III. Sampling the Records\n",
    "\n",
    "From here, you can sample the records. The frac argument is in percentage, so here, it's a one percent sample note that the sample function also guesses the dtype (which is proccess intensive) so it's better to do the sample after the final merge"
   ]
  },
  {
   "cell_type": "code",
   "execution_count": 8,
   "metadata": {
    "scrolled": true
   },
   "outputs": [
    {
     "data": {
      "text/html": [
       "<div>\n",
       "<style scoped>\n",
       "    .dataframe tbody tr th:only-of-type {\n",
       "        vertical-align: middle;\n",
       "    }\n",
       "\n",
       "    .dataframe tbody tr th {\n",
       "        vertical-align: top;\n",
       "    }\n",
       "\n",
       "    .dataframe thead th {\n",
       "        text-align: right;\n",
       "    }\n",
       "</style>\n",
       "<table border=\"1\" class=\"dataframe\">\n",
       "  <thead>\n",
       "    <tr style=\"text-align: right;\">\n",
       "      <th></th>\n",
       "      <th>LALVOTERID</th>\n",
       "      <th>General_2016_11_08</th>\n",
       "      <th>Residence_Addresses_Latitude</th>\n",
       "      <th>Residence_Addresses_Longitude</th>\n",
       "      <th>Voters_Gender</th>\n",
       "      <th>Voters_FIPS</th>\n",
       "    </tr>\n",
       "  </thead>\n",
       "  <tbody>\n",
       "    <tr>\n",
       "      <th>4506497</th>\n",
       "      <td>LALVA4381855</td>\n",
       "      <td>Y</td>\n",
       "      <td>36.861190</td>\n",
       "      <td>-76.266420</td>\n",
       "      <td>F</td>\n",
       "      <td>710</td>\n",
       "    </tr>\n",
       "    <tr>\n",
       "      <th>3220820</th>\n",
       "      <td>LALVA1954212</td>\n",
       "      <td>Y</td>\n",
       "      <td>37.228351</td>\n",
       "      <td>-79.976485</td>\n",
       "      <td>M</td>\n",
       "      <td>161</td>\n",
       "    </tr>\n",
       "    <tr>\n",
       "      <th>745576</th>\n",
       "      <td>LALVA738960</td>\n",
       "      <td>Y</td>\n",
       "      <td>37.509310</td>\n",
       "      <td>-77.649680</td>\n",
       "      <td>M</td>\n",
       "      <td>041</td>\n",
       "    </tr>\n",
       "    <tr>\n",
       "      <th>2152787</th>\n",
       "      <td>LALVA471745169</td>\n",
       "      <td>Y</td>\n",
       "      <td>36.985720</td>\n",
       "      <td>-76.612630</td>\n",
       "      <td>M</td>\n",
       "      <td>093</td>\n",
       "    </tr>\n",
       "    <tr>\n",
       "      <th>3196996</th>\n",
       "      <td>LALVA398865370</td>\n",
       "      <td>NaN</td>\n",
       "      <td>37.241560</td>\n",
       "      <td>-79.995220</td>\n",
       "      <td>M</td>\n",
       "      <td>161</td>\n",
       "    </tr>\n",
       "  </tbody>\n",
       "</table>\n",
       "</div>"
      ],
      "text/plain": [
       "             LALVOTERID General_2016_11_08 Residence_Addresses_Latitude  \\\n",
       "4506497    LALVA4381855                  Y                    36.861190   \n",
       "3220820    LALVA1954212                  Y                    37.228351   \n",
       "745576      LALVA738960                  Y                    37.509310   \n",
       "2152787  LALVA471745169                  Y                    36.985720   \n",
       "3196996  LALVA398865370                NaN                    37.241560   \n",
       "\n",
       "        Residence_Addresses_Longitude Voters_Gender Voters_FIPS  \n",
       "4506497                    -76.266420             F         710  \n",
       "3220820                    -79.976485             M         161  \n",
       "745576                     -77.649680             M         041  \n",
       "2152787                    -76.612630             M         093  \n",
       "3196996                    -79.995220             M         161  "
      ]
     },
     "execution_count": 8,
     "metadata": {},
     "output_type": "execute_result"
    }
   ],
   "source": [
    "state_sample = merged_file.sample(frac=0.01)\n",
    "\n",
    "state_sample.head(5)"
   ]
  },
  {
   "cell_type": "markdown",
   "metadata": {},
   "source": [
    "Again, print out the info to see that its a valid sample size (actually one percent) and that it is using much less memory\n",
    "\n",
    "You'll know that the sampling worked if the index numbers are nonsequential and random also, you can test the length and info of your new sample"
   ]
  },
  {
   "cell_type": "code",
   "execution_count": 9,
   "metadata": {},
   "outputs": [
    {
     "name": "stdout",
     "output_type": "stream",
     "text": [
      "<class 'pandas.core.frame.DataFrame'>\n",
      "Int64Index: 52643 entries, 4506497 to 2917779\n",
      "Data columns (total 6 columns):\n",
      " #   Column                         Non-Null Count  Dtype \n",
      "---  ------                         --------------  ----- \n",
      " 0   LALVOTERID                     52643 non-null  object\n",
      " 1   General_2016_11_08             36531 non-null  object\n",
      " 2   Residence_Addresses_Latitude   52639 non-null  object\n",
      " 3   Residence_Addresses_Longitude  52639 non-null  object\n",
      " 4   Voters_Gender                  52643 non-null  object\n",
      " 5   Voters_FIPS                    52643 non-null  object\n",
      "dtypes: object(6)\n",
      "memory usage: 2.8+ MB\n"
     ]
    }
   ],
   "source": [
    "state_sample.info()"
   ]
  },
  {
   "cell_type": "markdown",
   "metadata": {},
   "source": [
    "## IV. Further Deidentifying Geocoded Locations: Jittering\n",
    "\n",
    "There are many other filtering and cleaning steps to be taken before writing out a new file\n",
    "\n",
    "For example, the coordinates can be identifying, even if you strip out all of the other PID variables, because they are geocoded to the address. You will want to jitter them if you intend to aggregate or visualize data.\n",
    "\n",
    "First, print out the data types to make sure what they are:"
   ]
  },
  {
   "cell_type": "code",
   "execution_count": 10,
   "metadata": {},
   "outputs": [
    {
     "data": {
      "text/plain": [
       "LALVOTERID                       object\n",
       "General_2016_11_08               object\n",
       "Residence_Addresses_Latitude     object\n",
       "Residence_Addresses_Longitude    object\n",
       "Voters_Gender                    object\n",
       "Voters_FIPS                      object\n",
       "dtype: object"
      ]
     },
     "execution_count": 10,
     "metadata": {},
     "output_type": "execute_result"
    }
   ],
   "source": [
    "state_sample.dtypes"
   ]
  },
  {
   "cell_type": "code",
   "execution_count": 11,
   "metadata": {},
   "outputs": [
    {
     "data": {
      "text/plain": [
       "LALVOTERID                        object\n",
       "General_2016_11_08                object\n",
       "Residence_Addresses_Latitude     float64\n",
       "Residence_Addresses_Longitude    float64\n",
       "Voters_Gender                     object\n",
       "Voters_FIPS                       object\n",
       "dtype: object"
      ]
     },
     "execution_count": 11,
     "metadata": {},
     "output_type": "execute_result"
    }
   ],
   "source": [
    "## In order to jitter the coordinates, you need to change them to a float\n",
    "\n",
    "state_sample['Residence_Addresses_Latitude'] = pd.to_numeric(state_sample['Residence_Addresses_Latitude']) \n",
    "state_sample['Residence_Addresses_Longitude'] = pd.to_numeric(state_sample['Residence_Addresses_Longitude']) \n",
    "\n",
    "state_sample.dtypes"
   ]
  },
  {
   "cell_type": "markdown",
   "metadata": {},
   "source": [
    "The module pyjanitor introduces a jitter method for dataframes that can be used to displace the exact coordinates of a location.\n",
    "\n",
    "We'll start with jittering the latitude. This library inserts a Gaussian distribution (\"noise\") equal to the standard deviation of the scale. The exact amount of the scale in jitter may need to change but this is a good starting place. You may want to test the results in a mapping software like QGIS or ArcMap before proceeding too far"
   ]
  },
  {
   "cell_type": "code",
   "execution_count": 12,
   "metadata": {},
   "outputs": [
    {
     "data": {
      "text/html": [
       "<div>\n",
       "<style scoped>\n",
       "    .dataframe tbody tr th:only-of-type {\n",
       "        vertical-align: middle;\n",
       "    }\n",
       "\n",
       "    .dataframe tbody tr th {\n",
       "        vertical-align: top;\n",
       "    }\n",
       "\n",
       "    .dataframe thead th {\n",
       "        text-align: right;\n",
       "    }\n",
       "</style>\n",
       "<table border=\"1\" class=\"dataframe\">\n",
       "  <thead>\n",
       "    <tr style=\"text-align: right;\">\n",
       "      <th></th>\n",
       "      <th>LALVOTERID</th>\n",
       "      <th>General_2016_11_08</th>\n",
       "      <th>Residence_Addresses_Latitude</th>\n",
       "      <th>Residence_Addresses_Longitude</th>\n",
       "      <th>Voters_Gender</th>\n",
       "      <th>Voters_FIPS</th>\n",
       "      <th>lat_jitter</th>\n",
       "    </tr>\n",
       "  </thead>\n",
       "  <tbody>\n",
       "    <tr>\n",
       "      <th>4506497</th>\n",
       "      <td>LALVA4381855</td>\n",
       "      <td>Y</td>\n",
       "      <td>36.861190</td>\n",
       "      <td>-76.266420</td>\n",
       "      <td>F</td>\n",
       "      <td>710</td>\n",
       "      <td>36.810290</td>\n",
       "    </tr>\n",
       "    <tr>\n",
       "      <th>3220820</th>\n",
       "      <td>LALVA1954212</td>\n",
       "      <td>Y</td>\n",
       "      <td>37.228351</td>\n",
       "      <td>-79.976485</td>\n",
       "      <td>M</td>\n",
       "      <td>161</td>\n",
       "      <td>37.255338</td>\n",
       "    </tr>\n",
       "    <tr>\n",
       "      <th>745576</th>\n",
       "      <td>LALVA738960</td>\n",
       "      <td>Y</td>\n",
       "      <td>37.509310</td>\n",
       "      <td>-77.649680</td>\n",
       "      <td>M</td>\n",
       "      <td>041</td>\n",
       "      <td>37.505897</td>\n",
       "    </tr>\n",
       "    <tr>\n",
       "      <th>2152787</th>\n",
       "      <td>LALVA471745169</td>\n",
       "      <td>Y</td>\n",
       "      <td>36.985720</td>\n",
       "      <td>-76.612630</td>\n",
       "      <td>M</td>\n",
       "      <td>093</td>\n",
       "      <td>36.955577</td>\n",
       "    </tr>\n",
       "    <tr>\n",
       "      <th>3196996</th>\n",
       "      <td>LALVA398865370</td>\n",
       "      <td>NaN</td>\n",
       "      <td>37.241560</td>\n",
       "      <td>-79.995220</td>\n",
       "      <td>M</td>\n",
       "      <td>161</td>\n",
       "      <td>37.181218</td>\n",
       "    </tr>\n",
       "  </tbody>\n",
       "</table>\n",
       "</div>"
      ],
      "text/plain": [
       "             LALVOTERID General_2016_11_08  Residence_Addresses_Latitude  \\\n",
       "4506497    LALVA4381855                  Y                     36.861190   \n",
       "3220820    LALVA1954212                  Y                     37.228351   \n",
       "745576      LALVA738960                  Y                     37.509310   \n",
       "2152787  LALVA471745169                  Y                     36.985720   \n",
       "3196996  LALVA398865370                NaN                     37.241560   \n",
       "\n",
       "         Residence_Addresses_Longitude Voters_Gender Voters_FIPS  lat_jitter  \n",
       "4506497                     -76.266420             F         710   36.810290  \n",
       "3220820                     -79.976485             M         161   37.255338  \n",
       "745576                      -77.649680             M         041   37.505897  \n",
       "2152787                     -76.612630             M         093   36.955577  \n",
       "3196996                     -79.995220             M         161   37.181218  "
      ]
     },
     "execution_count": 12,
     "metadata": {},
     "output_type": "execute_result"
    }
   ],
   "source": [
    "jittered_lat = state_sample.jitter(\n",
    "    column_name='Residence_Addresses_Latitude',\n",
    "    dest_column_name='lat_jitter',\n",
    "    scale=0.05,\n",
    "    clip=None,\n",
    "    random_state=None,\n",
    ")\n",
    "\n",
    "jittered_lat.head(5)"
   ]
  },
  {
   "cell_type": "code",
   "execution_count": 13,
   "metadata": {
    "scrolled": true
   },
   "outputs": [
    {
     "data": {
      "text/html": [
       "<div>\n",
       "<style scoped>\n",
       "    .dataframe tbody tr th:only-of-type {\n",
       "        vertical-align: middle;\n",
       "    }\n",
       "\n",
       "    .dataframe tbody tr th {\n",
       "        vertical-align: top;\n",
       "    }\n",
       "\n",
       "    .dataframe thead th {\n",
       "        text-align: right;\n",
       "    }\n",
       "</style>\n",
       "<table border=\"1\" class=\"dataframe\">\n",
       "  <thead>\n",
       "    <tr style=\"text-align: right;\">\n",
       "      <th></th>\n",
       "      <th>LALVOTERID</th>\n",
       "      <th>General_2016_11_08</th>\n",
       "      <th>Residence_Addresses_Latitude</th>\n",
       "      <th>Residence_Addresses_Longitude</th>\n",
       "      <th>Voters_Gender</th>\n",
       "      <th>Voters_FIPS</th>\n",
       "      <th>lat_jitter</th>\n",
       "      <th>long_jitter</th>\n",
       "    </tr>\n",
       "  </thead>\n",
       "  <tbody>\n",
       "    <tr>\n",
       "      <th>4506497</th>\n",
       "      <td>LALVA4381855</td>\n",
       "      <td>Y</td>\n",
       "      <td>36.861190</td>\n",
       "      <td>-76.266420</td>\n",
       "      <td>F</td>\n",
       "      <td>710</td>\n",
       "      <td>36.810290</td>\n",
       "      <td>-76.255566</td>\n",
       "    </tr>\n",
       "    <tr>\n",
       "      <th>3220820</th>\n",
       "      <td>LALVA1954212</td>\n",
       "      <td>Y</td>\n",
       "      <td>37.228351</td>\n",
       "      <td>-79.976485</td>\n",
       "      <td>M</td>\n",
       "      <td>161</td>\n",
       "      <td>37.255338</td>\n",
       "      <td>-80.044706</td>\n",
       "    </tr>\n",
       "    <tr>\n",
       "      <th>745576</th>\n",
       "      <td>LALVA738960</td>\n",
       "      <td>Y</td>\n",
       "      <td>37.509310</td>\n",
       "      <td>-77.649680</td>\n",
       "      <td>M</td>\n",
       "      <td>041</td>\n",
       "      <td>37.505897</td>\n",
       "      <td>-77.576737</td>\n",
       "    </tr>\n",
       "    <tr>\n",
       "      <th>2152787</th>\n",
       "      <td>LALVA471745169</td>\n",
       "      <td>Y</td>\n",
       "      <td>36.985720</td>\n",
       "      <td>-76.612630</td>\n",
       "      <td>M</td>\n",
       "      <td>093</td>\n",
       "      <td>36.955577</td>\n",
       "      <td>-76.638565</td>\n",
       "    </tr>\n",
       "    <tr>\n",
       "      <th>3196996</th>\n",
       "      <td>LALVA398865370</td>\n",
       "      <td>NaN</td>\n",
       "      <td>37.241560</td>\n",
       "      <td>-79.995220</td>\n",
       "      <td>M</td>\n",
       "      <td>161</td>\n",
       "      <td>37.181218</td>\n",
       "      <td>-79.913420</td>\n",
       "    </tr>\n",
       "  </tbody>\n",
       "</table>\n",
       "</div>"
      ],
      "text/plain": [
       "             LALVOTERID General_2016_11_08  Residence_Addresses_Latitude  \\\n",
       "4506497    LALVA4381855                  Y                     36.861190   \n",
       "3220820    LALVA1954212                  Y                     37.228351   \n",
       "745576      LALVA738960                  Y                     37.509310   \n",
       "2152787  LALVA471745169                  Y                     36.985720   \n",
       "3196996  LALVA398865370                NaN                     37.241560   \n",
       "\n",
       "         Residence_Addresses_Longitude Voters_Gender Voters_FIPS  lat_jitter  \\\n",
       "4506497                     -76.266420             F         710   36.810290   \n",
       "3220820                     -79.976485             M         161   37.255338   \n",
       "745576                      -77.649680             M         041   37.505897   \n",
       "2152787                     -76.612630             M         093   36.955577   \n",
       "3196996                     -79.995220             M         161   37.181218   \n",
       "\n",
       "         long_jitter  \n",
       "4506497   -76.255566  \n",
       "3220820   -80.044706  \n",
       "745576    -77.576737  \n",
       "2152787   -76.638565  \n",
       "3196996   -79.913420  "
      ]
     },
     "execution_count": 13,
     "metadata": {},
     "output_type": "execute_result"
    }
   ],
   "source": [
    "## Now we jitter the longitude\n",
    "\n",
    "jittered_long = state_sample.jitter(\n",
    "    column_name='Residence_Addresses_Longitude',\n",
    "    dest_column_name='long_jitter',\n",
    "    scale=0.05,\n",
    "    clip=None,\n",
    "    random_state=None,\n",
    ")\n",
    "\n",
    "jittered_long.head(5)"
   ]
  },
  {
   "cell_type": "markdown",
   "metadata": {},
   "source": [
    "To complete the jittering process, make sure you drop off the actual Residence_Addresses columns.\n",
    "\n",
    "With this last dataframe, you should have a one percent sample that has jittered lat long coordinates, voter gender, whether or not they voted in 2016, and their unique ID:\n"
   ]
  },
  {
   "cell_type": "code",
   "execution_count": 14,
   "metadata": {},
   "outputs": [
    {
     "data": {
      "text/html": [
       "<div>\n",
       "<style scoped>\n",
       "    .dataframe tbody tr th:only-of-type {\n",
       "        vertical-align: middle;\n",
       "    }\n",
       "\n",
       "    .dataframe tbody tr th {\n",
       "        vertical-align: top;\n",
       "    }\n",
       "\n",
       "    .dataframe thead th {\n",
       "        text-align: right;\n",
       "    }\n",
       "</style>\n",
       "<table border=\"1\" class=\"dataframe\">\n",
       "  <thead>\n",
       "    <tr style=\"text-align: right;\">\n",
       "      <th></th>\n",
       "      <th>LALVOTERID</th>\n",
       "      <th>General_2016_11_08</th>\n",
       "      <th>Voters_Gender</th>\n",
       "      <th>Voters_FIPS</th>\n",
       "      <th>lat_jitter</th>\n",
       "      <th>long_jitter</th>\n",
       "    </tr>\n",
       "  </thead>\n",
       "  <tbody>\n",
       "    <tr>\n",
       "      <th>4506497</th>\n",
       "      <td>LALVA4381855</td>\n",
       "      <td>Y</td>\n",
       "      <td>F</td>\n",
       "      <td>710</td>\n",
       "      <td>36.810290</td>\n",
       "      <td>-76.255566</td>\n",
       "    </tr>\n",
       "    <tr>\n",
       "      <th>3220820</th>\n",
       "      <td>LALVA1954212</td>\n",
       "      <td>Y</td>\n",
       "      <td>M</td>\n",
       "      <td>161</td>\n",
       "      <td>37.255338</td>\n",
       "      <td>-80.044706</td>\n",
       "    </tr>\n",
       "    <tr>\n",
       "      <th>745576</th>\n",
       "      <td>LALVA738960</td>\n",
       "      <td>Y</td>\n",
       "      <td>M</td>\n",
       "      <td>041</td>\n",
       "      <td>37.505897</td>\n",
       "      <td>-77.576737</td>\n",
       "    </tr>\n",
       "    <tr>\n",
       "      <th>2152787</th>\n",
       "      <td>LALVA471745169</td>\n",
       "      <td>Y</td>\n",
       "      <td>M</td>\n",
       "      <td>093</td>\n",
       "      <td>36.955577</td>\n",
       "      <td>-76.638565</td>\n",
       "    </tr>\n",
       "    <tr>\n",
       "      <th>3196996</th>\n",
       "      <td>LALVA398865370</td>\n",
       "      <td>NaN</td>\n",
       "      <td>M</td>\n",
       "      <td>161</td>\n",
       "      <td>37.181218</td>\n",
       "      <td>-79.913420</td>\n",
       "    </tr>\n",
       "  </tbody>\n",
       "</table>\n",
       "</div>"
      ],
      "text/plain": [
       "             LALVOTERID General_2016_11_08 Voters_Gender Voters_FIPS  \\\n",
       "4506497    LALVA4381855                  Y             F         710   \n",
       "3220820    LALVA1954212                  Y             M         161   \n",
       "745576      LALVA738960                  Y             M         041   \n",
       "2152787  LALVA471745169                  Y             M         093   \n",
       "3196996  LALVA398865370                NaN             M         161   \n",
       "\n",
       "         lat_jitter  long_jitter  \n",
       "4506497   36.810290   -76.255566  \n",
       "3220820   37.255338   -80.044706  \n",
       "745576    37.505897   -77.576737  \n",
       "2152787   36.955577   -76.638565  \n",
       "3196996   37.181218   -79.913420  "
      ]
     },
     "execution_count": 14,
     "metadata": {},
     "output_type": "execute_result"
    }
   ],
   "source": [
    "stripped_sample = jittered_long.drop(columns=['Residence_Addresses_Latitude', 'Residence_Addresses_Longitude'])\n",
    "\n",
    "stripped_sample.head(5)"
   ]
  },
  {
   "cell_type": "markdown",
   "metadata": {},
   "source": [
    "## V. Saving the Resulting Dataframe to a CSV\n",
    "\n",
    "Finally, you may want to write out the sample to a CSV, leaving out the index that Pandas creates and stipulating the encoding into utf-8"
   ]
  },
  {
   "cell_type": "code",
   "execution_count": null,
   "metadata": {
    "collapsed": true
   },
   "outputs": [],
   "source": [
    "stripped_sample.to_csv(r'virginia-onepercent-sample.csv', index=False, encoding='utf-8')"
   ]
  },
  {
   "cell_type": "markdown",
   "metadata": {},
   "source": [
    "In the course of your analysis, you may want to repeat this process for multiple states and/or develop an aggregate roster of voters culled from a subset. You are encouraged to visit the tools section on the [L2 Political LibGuide at NYU Libraries](https://guides.nyu.edu/l2political/tools).\n",
    "\n",
    "In general, you should have a data management plan with these files that includes the following elements:\n",
    "\n",
    "- Secure any original .tab files you've downloaded by storing them in a single directory location, and then deleting the original .tab files once you've generated extracts\n",
    "- Manage your extracted samples in a secure environment\n",
    "\n",
    "Simple scripts and suggestions are available on the L2 Political LibGuide. \n"
   ]
  },
  {
   "cell_type": "markdown",
   "metadata": {},
   "source": [
    "## Saahil Test\n",
    "### Dropping Private/Redundant columns"
   ]
  },
  {
   "cell_type": "code",
   "execution_count": 89,
   "metadata": {},
   "outputs": [],
   "source": [
    "state_demographic_ak = pd.read_csv(r'C:\\Users\\saahi\\Desktop\\VM2--AK--2020-03-18-DEMOGRAPHIC.tab', \n",
    "                                sep='\\t', dtype=str, encoding='unicode_escape')"
   ]
  },
  {
   "cell_type": "code",
   "execution_count": 90,
   "metadata": {},
   "outputs": [],
   "source": [
    "def drop_private(df):\n",
    "    # list of all columns that contain private information\n",
    "    private_cols = ['VoterTelephones_Landline7Digit'\n",
    "                    ,'VoterTelephones_LandlineUnformatted'\n",
    "                    ,'VoterTelephones_CellPhoneFormatted'\n",
    "                    ,'VoterTelephones_CellPhoneUnformatted'\n",
    "                    ,'Voters_FirstName'\n",
    "                    ,'Voters_MiddleName'\n",
    "                    ,'Voters_LastName'\n",
    "                    ,'Voters_NameSuffix'\n",
    "                    ,'Residence_Addresses_AddressLine'\n",
    "                    ,'Residence_Addresses_ExtraAddressLine'\n",
    "                    ,'Residence_Addresses_ZipPlus4'\n",
    "                    ,'Residence_Addresses_HouseNumber'\n",
    "                    ,'Residence_Addresses_PrefixDirection'\n",
    "                    ,'Residence_Addresses_StreetName'\n",
    "                    ,'Residence_Addresses_Designator'\n",
    "                    ,'Residence_Addresses_SuffixDirection'\n",
    "                    ,'Residence_Addresses_ApartmentNum'\n",
    "                    ,'Residence_Families_FamilyID'\n",
    "                    ,'Mailing_Addresses_AddressLine'\n",
    "                    ,'Mailing_Addresses_ExtraAddressLine'\n",
    "                    ,'Mailing_Addresses_HouseNumber'\n",
    "                    ,'Mailing_Addresses_PrefixDirection'\n",
    "                    ,'Mailing_Addresses_StreetName'\n",
    "                    ,'Mailing_Addresses_Designator'\n",
    "                    ,'Mailing_Addresses_SuffixDirection'\n",
    "                    ,'Mailing_Addresses_ApartmentNum'\n",
    "                    ,'Mailing_Families_FamilyID'\n",
    "                    ,'Voters_BirthDate'\n",
    "                    ,'Residence_Addresses_City'\n",
    "                    ,'DateConfidence_Description'\n",
    "                    ,'Precinct'\n",
    "                    ,'VoterTelephones_LandlineAreaCode'\n",
    "                    ,'Residence_Addresses_State' \n",
    "                    ,'Residence_Addresses_LatLongAccuracy']\n",
    "    \n",
    "    indices_to_drop = []\n",
    "    # getting the indices for columns containing private information\n",
    "    for i in range(df.shape[1]):\n",
    "        for j in range(len(private_cols)):\n",
    "            if private_cols[j] == df.columns[i]:\n",
    "                indices_to_drop.append(i)\n",
    "    \n",
    "    # dropping the relevant columns            \n",
    "    df.drop(df.columns[indices_to_drop], axis = 1, inplace = True)\n",
    "    \n",
    "    return df"
   ]
  },
  {
   "cell_type": "code",
   "execution_count": 91,
   "metadata": {},
   "outputs": [
    {
     "data": {
      "text/plain": [
       "612"
      ]
     },
     "execution_count": 91,
     "metadata": {},
     "output_type": "execute_result"
    }
   ],
   "source": [
    "data = drop_private(state_demographic_ak)\n",
    "data.shape[1]"
   ]
  },
  {
   "cell_type": "markdown",
   "metadata": {},
   "source": [
    "### Threshold"
   ]
  },
  {
   "cell_type": "code",
   "execution_count": 92,
   "metadata": {},
   "outputs": [],
   "source": [
    "def data_threshold(df):\n",
    "    # Dropping all columns that have 75% or more null values\n",
    "    dt = int(0.75*df.shape[0])\n",
    "    df.dropna(axis=1, thresh=dt, inplace=True)\n",
    "    return df"
   ]
  },
  {
   "cell_type": "code",
   "execution_count": 93,
   "metadata": {},
   "outputs": [
    {
     "data": {
      "text/plain": [
       "195"
      ]
     },
     "execution_count": 93,
     "metadata": {},
     "output_type": "execute_result"
    }
   ],
   "source": [
    "data = data_threshold(data)\n",
    "data.shape[1]"
   ]
  },
  {
   "cell_type": "code",
   "execution_count": 94,
   "metadata": {},
   "outputs": [],
   "source": [
    "# print(data.columns.values)\n",
    "test_data  = data.copy()"
   ]
  },
  {
   "cell_type": "markdown",
   "metadata": {},
   "source": [
    "## Cleaning Data\n",
    "#### Data-type for all columns is 'object'. The following method converts all possible columns to numeric"
   ]
  },
  {
   "cell_type": "code",
   "execution_count": 129,
   "metadata": {},
   "outputs": [],
   "source": [
    "# Function converts the obvious numeric columns into int/float\n",
    "def prelim_numeric_converter(df):\n",
    "    df.loc[:, df.columns.str.startswith('Commercial')] = df.loc[:, df.columns.str.startswith('Commercial')].replace([\"$\"], \"\", regex=True)\n",
    "    cols = df.columns\n",
    "    for c in cols:\n",
    "        try:\n",
    "            df[c] = pd.to_numeric(df[c])\n",
    "        except:\n",
    "            pass\n",
    "    return df"
   ]
  },
  {
   "cell_type": "code",
   "execution_count": 130,
   "metadata": {},
   "outputs": [],
   "source": [
    "data = prelim_numeric_converter(data)"
   ]
  },
  {
   "cell_type": "markdown",
   "metadata": {},
   "source": [
    "#### The following methods, while resource heavy, relpace '\\%' with \"\" for columns on Election Data:"
   ]
  },
  {
   "cell_type": "code",
   "execution_count": 137,
   "metadata": {},
   "outputs": [],
   "source": [
    "# converting election results to numeric (resource heavy)\n",
    "def election_numeric_converter(df):\n",
    "    col_len = df.shape[1]-1\n",
    "    df.loc[:, df.columns.str.startswith('Election')] = df.loc[:, df.columns.str.startswith('Commercial')].replace([\"$\"], \"\", regex=True)\n",
    "    for i in range(df.loc[:, df.columns.str.startswith('Election')].shape[1]):\n",
    "        try:\n",
    "            df.iloc[:, col_len-i] = pd.to_numeric(df.iloc[:, col_len-i])\n",
    "        except:\n",
    "            pass\n",
    "    return df"
   ]
  },
  {
   "cell_type": "code",
   "execution_count": 138,
   "metadata": {},
   "outputs": [],
   "source": [
    "# This one is less efficient but maybe we could use str.replace instead of regex?\n",
    "def election_numeric_converter_2(df):\n",
    "    col_len = df.shape[1]-1\n",
    "    for i in range(df.loc[:, df.columns.str.startswith('Election')].shape[1]):\n",
    "        df.iloc[:, col_len-i]=df.iloc[:, col_len-i].str.replace('%','')\n",
    "    for i in range(df.loc[:, df.columns.str.startswith('Election')].shape[1]):\n",
    "        try:\n",
    "            df.iloc[:, col_len-i] = pd.to_numeric(df.iloc[:, col_len-i])\n",
    "        except:\n",
    "            pass  \n",
    "    return df"
   ]
  },
  {
   "cell_type": "code",
   "execution_count": 133,
   "metadata": {},
   "outputs": [],
   "source": [
    "data = election_numeric_converter(data)"
   ]
  },
  {
   "cell_type": "markdown",
   "metadata": {},
   "source": [
    "#### The following methods, while resource heavy, relpace '\\$' with \"\" for columns on Commercial Data:"
   ]
  },
  {
   "cell_type": "code",
   "execution_count": 128,
   "metadata": {},
   "outputs": [],
   "source": [
    "\n",
    "data.loc[:, data.columns.str.startswith('Commercial')] = data.loc[:, data.columns.str.startswith('Commercial')].replace([\"$\"], \"\", regex=True)\n",
    "    "
   ]
  },
  {
   "cell_type": "code",
   "execution_count": 127,
   "metadata": {},
   "outputs": [],
   "source": [
    "# to re-initiate the smaller dataset\n",
    "data = test_data.copy()"
   ]
  },
  {
   "cell_type": "code",
   "execution_count": 139,
   "metadata": {},
   "outputs": [
    {
     "data": {
      "text/plain": [
       "float64    159\n",
       "object      29\n",
       "int64        7\n",
       "dtype: int64"
      ]
     },
     "execution_count": 139,
     "metadata": {},
     "output_type": "execute_result"
    }
   ],
   "source": [
    "data.dtypes.value_counts()"
   ]
  },
  {
   "cell_type": "code",
   "execution_count": 108,
   "metadata": {},
   "outputs": [
    {
     "data": {
      "text/plain": [
       "0         26.0\n",
       "1         26.0\n",
       "2         26.0\n",
       "3         26.0\n",
       "4         26.0\n",
       "          ... \n",
       "522488    26.0\n",
       "522489    26.0\n",
       "522490    26.0\n",
       "522491    26.0\n",
       "522492    26.0\n",
       "Name: ElectionReturns_P18PrecinctTurnoutRepublicans, Length: 522493, dtype: float64"
      ]
     },
     "execution_count": 108,
     "metadata": {},
     "output_type": "execute_result"
    }
   ],
   "source": [
    "data['ElectionReturns_P18PrecinctTurnoutRepublicans']"
   ]
  },
  {
   "cell_type": "code",
   "execution_count": 45,
   "metadata": {},
   "outputs": [
    {
     "data": {
      "text/html": [
       "<div>\n",
       "<style scoped>\n",
       "    .dataframe tbody tr th:only-of-type {\n",
       "        vertical-align: middle;\n",
       "    }\n",
       "\n",
       "    .dataframe tbody tr th {\n",
       "        vertical-align: top;\n",
       "    }\n",
       "\n",
       "    .dataframe thead th {\n",
       "        text-align: right;\n",
       "    }\n",
       "</style>\n",
       "<table border=\"1\" class=\"dataframe\">\n",
       "  <thead>\n",
       "    <tr style=\"text-align: right;\">\n",
       "      <th></th>\n",
       "      <th>CommercialData_DwellingType</th>\n",
       "      <th>CommercialData_EstHomeValue</th>\n",
       "      <th>CommercialData_EstimatedHHIncome</th>\n",
       "      <th>CommercialData_EstimatedHHIncomeAmount</th>\n",
       "      <th>CommercialData_PropertyType</th>\n",
       "    </tr>\n",
       "  </thead>\n",
       "  <tbody>\n",
       "    <tr>\n",
       "      <th>0</th>\n",
       "      <td>NaN</td>\n",
       "      <td>NaN</td>\n",
       "      <td>NaN</td>\n",
       "      <td>NaN</td>\n",
       "      <td>Unknown</td>\n",
       "    </tr>\n",
       "    <tr>\n",
       "      <th>1</th>\n",
       "      <td>NaN</td>\n",
       "      <td>NaN</td>\n",
       "      <td>NaN</td>\n",
       "      <td>NaN</td>\n",
       "      <td>Unknown</td>\n",
       "    </tr>\n",
       "    <tr>\n",
       "      <th>2</th>\n",
       "      <td>Multi-Family Dwelling</td>\n",
       "      <td>NaN</td>\n",
       "      <td>$1000-14999</td>\n",
       "      <td>$13000</td>\n",
       "      <td>Apartment</td>\n",
       "    </tr>\n",
       "    <tr>\n",
       "      <th>3</th>\n",
       "      <td>Multi-Family Dwelling</td>\n",
       "      <td>NaN</td>\n",
       "      <td>$1000-14999</td>\n",
       "      <td>$13000</td>\n",
       "      <td>Apartment</td>\n",
       "    </tr>\n",
       "    <tr>\n",
       "      <th>4</th>\n",
       "      <td>NaN</td>\n",
       "      <td>NaN</td>\n",
       "      <td>NaN</td>\n",
       "      <td>NaN</td>\n",
       "      <td>Unknown</td>\n",
       "    </tr>\n",
       "    <tr>\n",
       "      <th>...</th>\n",
       "      <td>...</td>\n",
       "      <td>...</td>\n",
       "      <td>...</td>\n",
       "      <td>...</td>\n",
       "      <td>...</td>\n",
       "    </tr>\n",
       "    <tr>\n",
       "      <th>522488</th>\n",
       "      <td>NaN</td>\n",
       "      <td>$325000</td>\n",
       "      <td>NaN</td>\n",
       "      <td>NaN</td>\n",
       "      <td>Unknown</td>\n",
       "    </tr>\n",
       "    <tr>\n",
       "      <th>522489</th>\n",
       "      <td>Single Family Dwelling Unit</td>\n",
       "      <td>NaN</td>\n",
       "      <td>$100000-124999</td>\n",
       "      <td>$105000</td>\n",
       "      <td>Residential</td>\n",
       "    </tr>\n",
       "    <tr>\n",
       "      <th>522490</th>\n",
       "      <td>NaN</td>\n",
       "      <td>NaN</td>\n",
       "      <td>NaN</td>\n",
       "      <td>NaN</td>\n",
       "      <td>Unknown</td>\n",
       "    </tr>\n",
       "    <tr>\n",
       "      <th>522491</th>\n",
       "      <td>NaN</td>\n",
       "      <td>NaN</td>\n",
       "      <td>NaN</td>\n",
       "      <td>NaN</td>\n",
       "      <td>Unknown</td>\n",
       "    </tr>\n",
       "    <tr>\n",
       "      <th>522492</th>\n",
       "      <td>Single Family Dwelling Unit</td>\n",
       "      <td>NaN</td>\n",
       "      <td>$15000-24999</td>\n",
       "      <td>$22000</td>\n",
       "      <td>Residential</td>\n",
       "    </tr>\n",
       "  </tbody>\n",
       "</table>\n",
       "<p>522493 rows × 5 columns</p>\n",
       "</div>"
      ],
      "text/plain": [
       "        CommercialData_DwellingType CommercialData_EstHomeValue  \\\n",
       "0                               NaN                         NaN   \n",
       "1                               NaN                         NaN   \n",
       "2             Multi-Family Dwelling                         NaN   \n",
       "3             Multi-Family Dwelling                         NaN   \n",
       "4                               NaN                         NaN   \n",
       "...                             ...                         ...   \n",
       "522488                          NaN                     $325000   \n",
       "522489  Single Family Dwelling Unit                         NaN   \n",
       "522490                          NaN                         NaN   \n",
       "522491                          NaN                         NaN   \n",
       "522492  Single Family Dwelling Unit                         NaN   \n",
       "\n",
       "       CommercialData_EstimatedHHIncome  \\\n",
       "0                                   NaN   \n",
       "1                                   NaN   \n",
       "2                           $1000-14999   \n",
       "3                           $1000-14999   \n",
       "4                                   NaN   \n",
       "...                                 ...   \n",
       "522488                              NaN   \n",
       "522489                   $100000-124999   \n",
       "522490                              NaN   \n",
       "522491                              NaN   \n",
       "522492                     $15000-24999   \n",
       "\n",
       "       CommercialData_EstimatedHHIncomeAmount CommercialData_PropertyType  \n",
       "0                                         NaN                     Unknown  \n",
       "1                                         NaN                     Unknown  \n",
       "2                                      $13000                   Apartment  \n",
       "3                                      $13000                   Apartment  \n",
       "4                                         NaN                     Unknown  \n",
       "...                                       ...                         ...  \n",
       "522488                                    NaN                     Unknown  \n",
       "522489                                $105000                 Residential  \n",
       "522490                                    NaN                     Unknown  \n",
       "522491                                    NaN                     Unknown  \n",
       "522492                                 $22000                 Residential  \n",
       "\n",
       "[522493 rows x 5 columns]"
      ]
     },
     "execution_count": 45,
     "metadata": {},
     "output_type": "execute_result"
    }
   ],
   "source": [
    "data.loc[:, data.columns.str.startswith('Commercial')]\n",
    "    "
   ]
  },
  {
   "cell_type": "markdown",
   "metadata": {},
   "source": [
    "## Imputation using Machine Learning"
   ]
  },
  {
   "cell_type": "markdown",
   "metadata": {},
   "source": [
    "### Converting Binary to 1 & 0 \n",
    "#### Can't figure out what NaN values are 0 and what are empty so Im just gonna not impute values for them"
   ]
  },
  {
   "cell_type": "code",
   "execution_count": 142,
   "metadata": {},
   "outputs": [],
   "source": [
    "# run after dropping personal data and threshold\n",
    "def knn_imputation(df):\n",
    "    binary = []\n",
    "    # Getting the indices for columns that are binary\n",
    "    for i in range(df.shape[1]):\n",
    "        if (df.iloc[ : , i].isnull().values.any()):\n",
    "            if (len(df.iloc[ : , i].value_counts()) == 1):\n",
    "                binary.append(i)\n",
    "    # Temporarily drop binary columns \n",
    "    temp_data_1 = data.columns[binary].copy()            \n",
    "    data.drop(data.columns[binary], axis = 1, inplace = True)\n",
    "    \n",
    "    imputer = IterativeImputer()\n",
    "    imputer.fit(data)\n",
    "    Xtrans = imputer.transform(data)"
   ]
  },
  {
   "cell_type": "code",
   "execution_count": null,
   "metadata": {},
   "outputs": [],
   "source": []
  }
 ],
 "metadata": {
  "kernelspec": {
   "display_name": "Python 3",
   "language": "python",
   "name": "python3"
  },
  "language_info": {
   "codemirror_mode": {
    "name": "ipython",
    "version": 3
   },
   "file_extension": ".py",
   "mimetype": "text/x-python",
   "name": "python",
   "nbconvert_exporter": "python",
   "pygments_lexer": "ipython3",
   "version": "3.7.6"
  }
 },
 "nbformat": 4,
 "nbformat_minor": 2
}

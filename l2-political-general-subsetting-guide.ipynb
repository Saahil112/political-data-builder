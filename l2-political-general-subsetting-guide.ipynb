{
 "cells": [
  {
   "cell_type": "markdown",
   "metadata": {},
   "source": [
    "<img align=\"right\" width=\"300\" src=\"https://data-services.hosting.nyu.edu/assets/libraries_short_color.png\" alt=\"NYU Libraries Logo\">\n",
    "\n",
    "# Guidance for working with L2 political data voter files\n",
    "\n",
    "**Overview:** The L2 Political files come in two parts for each state: Demographic indicators and Voter History. Both are .tab files (tab delimited) and will need to be extracted. It is likely that you'll need to use a command line tool to decompress each archive. \n",
    "\n",
    "For larger states, you will want to redact parts of these files by only loading the minimum number of variables that you need into memory, merge them together, then sample them in order to perform analysis.\n",
    "\n",
    "This notebook is designed to provide some guidance on working with the data and creating extracts in a memory-efficient manner. It uses Python Libraries that are included with the Anacondas distribution, with the exception of [Pyjanitor](https://pyjanitor.readthedocs.io/index.html). In order to install it, run\n",
    "\n",
    "`conda install pyjanitor -c conda-forge`\n",
    "\n",
    "The conda distribution here seems to work the best (as opposed to pip). See the documentation for each of these libraries (especially Pandas) for more information. You will need to restart your Kernel and notebook before proceeding if you haven't already installed Pyjanitor. \n",
    "\n",
    "Users are expected to have agreed to the Terms of Use and should create redacted versions of the data that strip out identifying information and load only variables that are important for analysis. For the latest documentation, visit the [L2 Political LibGuide](https://guides.nyu.edu/l2political)"
   ]
  },
  {
   "cell_type": "markdown",
   "metadata": {},
   "source": [
    "## I. Loading Python modules and L2 Data\n",
    "\n",
    "Begin by importing some basic libraries to work with the data "
   ]
  },
  {
   "cell_type": "code",
   "execution_count": 27,
   "metadata": {},
   "outputs": [],
   "source": [
    "import pandas as pd\n",
    "import numpy as np\n",
    "from sklearn.decomposition import PCA\n",
    "import matplotlib.pyplot as plt\n",
    "#import janitor"
   ]
  },
  {
   "cell_type": "markdown",
   "metadata": {},
   "source": [
    "**Loading .tab files**\n",
    "\n",
    "First, we read in the .tab file of demographic variables, declare the tab as the separator, and set the encoding\n",
    "\n",
    "There are 646 columns in the demographic file, and it's better to set the datetype as string (labeled \"object\" in Pandas) for each of them and only load certian columns to cut down on memory usage.\n",
    "\n",
    "Declare the columns you want; see the codebook for the full list and don't take PID columns.\n"
   ]
  },
  {
   "cell_type": "code",
   "execution_count": 2,
   "metadata": {
    "scrolled": true
   },
   "outputs": [
    {
     "data": {
      "text/html": [
       "<div>\n",
       "<style scoped>\n",
       "    .dataframe tbody tr th:only-of-type {\n",
       "        vertical-align: middle;\n",
       "    }\n",
       "\n",
       "    .dataframe tbody tr th {\n",
       "        vertical-align: top;\n",
       "    }\n",
       "\n",
       "    .dataframe thead th {\n",
       "        text-align: right;\n",
       "    }\n",
       "</style>\n",
       "<table border=\"1\" class=\"dataframe\">\n",
       "  <thead>\n",
       "    <tr style=\"text-align: right;\">\n",
       "      <th></th>\n",
       "      <th>LALVOTERID</th>\n",
       "      <th>Residence_Addresses_Latitude</th>\n",
       "      <th>Residence_Addresses_Longitude</th>\n",
       "      <th>Voters_Gender</th>\n",
       "      <th>Voters_FIPS</th>\n",
       "    </tr>\n",
       "  </thead>\n",
       "  <tbody>\n",
       "    <tr>\n",
       "      <th>0</th>\n",
       "      <td>LALVA167958824</td>\n",
       "      <td>37.901764</td>\n",
       "      <td>-75.505997</td>\n",
       "      <td>F</td>\n",
       "      <td>001</td>\n",
       "    </tr>\n",
       "    <tr>\n",
       "      <th>1</th>\n",
       "      <td>LALVA516951467</td>\n",
       "      <td>37.901764</td>\n",
       "      <td>-75.505997</td>\n",
       "      <td>M</td>\n",
       "      <td>001</td>\n",
       "    </tr>\n",
       "    <tr>\n",
       "      <th>2</th>\n",
       "      <td>LALVA462558999</td>\n",
       "      <td>37.901343</td>\n",
       "      <td>-75.566436</td>\n",
       "      <td>F</td>\n",
       "      <td>001</td>\n",
       "    </tr>\n",
       "    <tr>\n",
       "      <th>3</th>\n",
       "      <td>LALVA462552402</td>\n",
       "      <td>37.901343</td>\n",
       "      <td>-75.566436</td>\n",
       "      <td>M</td>\n",
       "      <td>001</td>\n",
       "    </tr>\n",
       "    <tr>\n",
       "      <th>4</th>\n",
       "      <td>LALVA4161517</td>\n",
       "      <td>37.807510</td>\n",
       "      <td>-75.607740</td>\n",
       "      <td>M</td>\n",
       "      <td>001</td>\n",
       "    </tr>\n",
       "  </tbody>\n",
       "</table>\n",
       "</div>"
      ],
      "text/plain": [
       "       LALVOTERID Residence_Addresses_Latitude Residence_Addresses_Longitude  \\\n",
       "0  LALVA167958824                    37.901764                    -75.505997   \n",
       "1  LALVA516951467                    37.901764                    -75.505997   \n",
       "2  LALVA462558999                    37.901343                    -75.566436   \n",
       "3  LALVA462552402                    37.901343                    -75.566436   \n",
       "4    LALVA4161517                    37.807510                    -75.607740   \n",
       "\n",
       "  Voters_Gender Voters_FIPS  \n",
       "0             F         001  \n",
       "1             M         001  \n",
       "2             F         001  \n",
       "3             M         001  \n",
       "4             M         001  "
      ]
     },
     "execution_count": 2,
     "metadata": {},
     "output_type": "execute_result"
    }
   ],
   "source": [
    "selected_variables = ['LALVOTERID',\n",
    "                      'Residence_Addresses_Latitude',\n",
    "                      'Residence_Addresses_Longitude',\n",
    "                      'Voters_Gender',\n",
    "                      'Voters_FIPS']\n",
    "\n",
    "## Change the file path below accordingly to point toward the relevant file. Note that this data loading step below\n",
    "## will take the longest out of any step for your computer to process\n",
    "\n",
    "state_demographic = pd.read_csv('VM2--VA--2020-03-01-DEMOGRAPHIC.tab', \n",
    "                                sep='\\t', dtype=str, encoding='unicode_escape',\n",
    "                                usecols=selected_variables)\n",
    "\n",
    "## Preview of the first 5 rows of the data subset. \n",
    "\n",
    "state_demographic.head(5)"
   ]
  },
  {
   "cell_type": "markdown",
   "metadata": {},
   "source": [
    "It's also not a bad idea to test the length of the entire file and verify it with the number of records on the documentation"
   ]
  },
  {
   "cell_type": "code",
   "execution_count": 3,
   "metadata": {
    "scrolled": true
   },
   "outputs": [
    {
     "data": {
      "text/plain": [
       "5264320"
      ]
     },
     "execution_count": 3,
     "metadata": {},
     "output_type": "execute_result"
    }
   ],
   "source": [
    "len(state_demographic)"
   ]
  },
  {
   "cell_type": "markdown",
   "metadata": {},
   "source": [
    "You can also run .info to get a breakdown, including how much memory the data frame is eating up.\n",
    "\n",
    "This will give you context for how much your computer can handle."
   ]
  },
  {
   "cell_type": "code",
   "execution_count": 4,
   "metadata": {},
   "outputs": [
    {
     "name": "stdout",
     "output_type": "stream",
     "text": [
      "<class 'pandas.core.frame.DataFrame'>\n",
      "RangeIndex: 5264320 entries, 0 to 5264319\n",
      "Data columns (total 5 columns):\n",
      " #   Column                         Dtype \n",
      "---  ------                         ----- \n",
      " 0   LALVOTERID                     object\n",
      " 1   Residence_Addresses_Latitude   object\n",
      " 2   Residence_Addresses_Longitude  object\n",
      " 3   Voters_Gender                  object\n",
      " 4   Voters_FIPS                    object\n",
      "dtypes: object(5)\n",
      "memory usage: 200.8+ MB\n"
     ]
    }
   ],
   "source": [
    "state_demographic.info()"
   ]
  },
  {
   "cell_type": "markdown",
   "metadata": {},
   "source": [
    "Next, we will read into memory the voter history file that corresponds to the state.\n",
    "\n",
    "This time, we make sure to include the *LALVOTERID* column, and we will add whether or not they voted in 2016."
   ]
  },
  {
   "cell_type": "code",
   "execution_count": 5,
   "metadata": {},
   "outputs": [
    {
     "data": {
      "text/html": [
       "<div>\n",
       "<style scoped>\n",
       "    .dataframe tbody tr th:only-of-type {\n",
       "        vertical-align: middle;\n",
       "    }\n",
       "\n",
       "    .dataframe tbody tr th {\n",
       "        vertical-align: top;\n",
       "    }\n",
       "\n",
       "    .dataframe thead th {\n",
       "        text-align: right;\n",
       "    }\n",
       "</style>\n",
       "<table border=\"1\" class=\"dataframe\">\n",
       "  <thead>\n",
       "    <tr style=\"text-align: right;\">\n",
       "      <th></th>\n",
       "      <th>LALVOTERID</th>\n",
       "      <th>General_2016_11_08</th>\n",
       "    </tr>\n",
       "  </thead>\n",
       "  <tbody>\n",
       "    <tr>\n",
       "      <th>0</th>\n",
       "      <td>LALVA167958824</td>\n",
       "      <td>Y</td>\n",
       "    </tr>\n",
       "    <tr>\n",
       "      <th>1</th>\n",
       "      <td>LALVA516951467</td>\n",
       "      <td>NaN</td>\n",
       "    </tr>\n",
       "    <tr>\n",
       "      <th>2</th>\n",
       "      <td>LALVA462558999</td>\n",
       "      <td>Y</td>\n",
       "    </tr>\n",
       "    <tr>\n",
       "      <th>3</th>\n",
       "      <td>LALVA462552402</td>\n",
       "      <td>Y</td>\n",
       "    </tr>\n",
       "    <tr>\n",
       "      <th>4</th>\n",
       "      <td>LALVA4161517</td>\n",
       "      <td>Y</td>\n",
       "    </tr>\n",
       "  </tbody>\n",
       "</table>\n",
       "</div>"
      ],
      "text/plain": [
       "       LALVOTERID General_2016_11_08\n",
       "0  LALVA167958824                  Y\n",
       "1  LALVA516951467                NaN\n",
       "2  LALVA462558999                  Y\n",
       "3  LALVA462552402                  Y\n",
       "4    LALVA4161517                  Y"
      ]
     },
     "execution_count": 5,
     "metadata": {},
     "output_type": "execute_result"
    }
   ],
   "source": [
    "needed_variables = ['LALVOTERID', 'General_2016_11_08']\n",
    "\n",
    "state_voterhistory = pd.read_csv('VM2--VA--2020-03-01-VOTEHISTORY.tab',\n",
    "                                 sep='\\t', dtype=str, encoding='unicode_escape',\n",
    "                                 usecols=needed_variables)\n",
    "                                \n",
    "state_voterhistory.head(5)"
   ]
  },
  {
   "cell_type": "code",
   "execution_count": 6,
   "metadata": {},
   "outputs": [
    {
     "name": "stdout",
     "output_type": "stream",
     "text": [
      "<class 'pandas.core.frame.DataFrame'>\n",
      "RangeIndex: 5264320 entries, 0 to 5264319\n",
      "Data columns (total 2 columns):\n",
      " #   Column              Dtype \n",
      "---  ------              ----- \n",
      " 0   LALVOTERID          object\n",
      " 1   General_2016_11_08  object\n",
      "dtypes: object(2)\n",
      "memory usage: 80.3+ MB\n"
     ]
    }
   ],
   "source": [
    "## Again, I will want to run an .info command to test the size and memory\n",
    "\n",
    "state_voterhistory.info()"
   ]
  },
  {
   "cell_type": "markdown",
   "metadata": {},
   "source": [
    "## II. Join of Demographic and Voter History Tables\n",
    "\n",
    "Now that I have established a two reduced tables with a connection, I can join them (using the merge method in Pandas) based on the *LALVOTERID* common key\n"
   ]
  },
  {
   "cell_type": "code",
   "execution_count": 7,
   "metadata": {},
   "outputs": [
    {
     "data": {
      "text/html": [
       "<div>\n",
       "<style scoped>\n",
       "    .dataframe tbody tr th:only-of-type {\n",
       "        vertical-align: middle;\n",
       "    }\n",
       "\n",
       "    .dataframe tbody tr th {\n",
       "        vertical-align: top;\n",
       "    }\n",
       "\n",
       "    .dataframe thead th {\n",
       "        text-align: right;\n",
       "    }\n",
       "</style>\n",
       "<table border=\"1\" class=\"dataframe\">\n",
       "  <thead>\n",
       "    <tr style=\"text-align: right;\">\n",
       "      <th></th>\n",
       "      <th>LALVOTERID</th>\n",
       "      <th>General_2016_11_08</th>\n",
       "      <th>Residence_Addresses_Latitude</th>\n",
       "      <th>Residence_Addresses_Longitude</th>\n",
       "      <th>Voters_Gender</th>\n",
       "      <th>Voters_FIPS</th>\n",
       "    </tr>\n",
       "  </thead>\n",
       "  <tbody>\n",
       "    <tr>\n",
       "      <th>0</th>\n",
       "      <td>LALVA167958824</td>\n",
       "      <td>Y</td>\n",
       "      <td>37.901764</td>\n",
       "      <td>-75.505997</td>\n",
       "      <td>F</td>\n",
       "      <td>001</td>\n",
       "    </tr>\n",
       "    <tr>\n",
       "      <th>1</th>\n",
       "      <td>LALVA516951467</td>\n",
       "      <td>NaN</td>\n",
       "      <td>37.901764</td>\n",
       "      <td>-75.505997</td>\n",
       "      <td>M</td>\n",
       "      <td>001</td>\n",
       "    </tr>\n",
       "    <tr>\n",
       "      <th>2</th>\n",
       "      <td>LALVA462558999</td>\n",
       "      <td>Y</td>\n",
       "      <td>37.901343</td>\n",
       "      <td>-75.566436</td>\n",
       "      <td>F</td>\n",
       "      <td>001</td>\n",
       "    </tr>\n",
       "    <tr>\n",
       "      <th>3</th>\n",
       "      <td>LALVA462552402</td>\n",
       "      <td>Y</td>\n",
       "      <td>37.901343</td>\n",
       "      <td>-75.566436</td>\n",
       "      <td>M</td>\n",
       "      <td>001</td>\n",
       "    </tr>\n",
       "    <tr>\n",
       "      <th>4</th>\n",
       "      <td>LALVA4161517</td>\n",
       "      <td>Y</td>\n",
       "      <td>37.807510</td>\n",
       "      <td>-75.607740</td>\n",
       "      <td>M</td>\n",
       "      <td>001</td>\n",
       "    </tr>\n",
       "  </tbody>\n",
       "</table>\n",
       "</div>"
      ],
      "text/plain": [
       "       LALVOTERID General_2016_11_08 Residence_Addresses_Latitude  \\\n",
       "0  LALVA167958824                  Y                    37.901764   \n",
       "1  LALVA516951467                NaN                    37.901764   \n",
       "2  LALVA462558999                  Y                    37.901343   \n",
       "3  LALVA462552402                  Y                    37.901343   \n",
       "4    LALVA4161517                  Y                    37.807510   \n",
       "\n",
       "  Residence_Addresses_Longitude Voters_Gender Voters_FIPS  \n",
       "0                    -75.505997             F         001  \n",
       "1                    -75.505997             M         001  \n",
       "2                    -75.566436             F         001  \n",
       "3                    -75.566436             M         001  \n",
       "4                    -75.607740             M         001  "
      ]
     },
     "execution_count": 7,
     "metadata": {},
     "output_type": "execute_result"
    }
   ],
   "source": [
    "merged_file = pd.merge(state_voterhistory, state_demographic,\n",
    "                       how='left', left_on='LALVOTERID', right_on='LALVOTERID')\n",
    "\n",
    "merged_file.head(5)"
   ]
  },
  {
   "cell_type": "markdown",
   "metadata": {},
   "source": [
    "## III. Sampling the Records\n",
    "\n",
    "From here, you can sample the records. The frac argument is in percentage, so here, it's a one percent sample note that the sample function also guesses the dtype (which is proccess intensive) so it's better to do the sample after the final merge"
   ]
  },
  {
   "cell_type": "code",
   "execution_count": 8,
   "metadata": {
    "scrolled": true
   },
   "outputs": [
    {
     "data": {
      "text/html": [
       "<div>\n",
       "<style scoped>\n",
       "    .dataframe tbody tr th:only-of-type {\n",
       "        vertical-align: middle;\n",
       "    }\n",
       "\n",
       "    .dataframe tbody tr th {\n",
       "        vertical-align: top;\n",
       "    }\n",
       "\n",
       "    .dataframe thead th {\n",
       "        text-align: right;\n",
       "    }\n",
       "</style>\n",
       "<table border=\"1\" class=\"dataframe\">\n",
       "  <thead>\n",
       "    <tr style=\"text-align: right;\">\n",
       "      <th></th>\n",
       "      <th>LALVOTERID</th>\n",
       "      <th>General_2016_11_08</th>\n",
       "      <th>Residence_Addresses_Latitude</th>\n",
       "      <th>Residence_Addresses_Longitude</th>\n",
       "      <th>Voters_Gender</th>\n",
       "      <th>Voters_FIPS</th>\n",
       "    </tr>\n",
       "  </thead>\n",
       "  <tbody>\n",
       "    <tr>\n",
       "      <th>4506497</th>\n",
       "      <td>LALVA4381855</td>\n",
       "      <td>Y</td>\n",
       "      <td>36.861190</td>\n",
       "      <td>-76.266420</td>\n",
       "      <td>F</td>\n",
       "      <td>710</td>\n",
       "    </tr>\n",
       "    <tr>\n",
       "      <th>3220820</th>\n",
       "      <td>LALVA1954212</td>\n",
       "      <td>Y</td>\n",
       "      <td>37.228351</td>\n",
       "      <td>-79.976485</td>\n",
       "      <td>M</td>\n",
       "      <td>161</td>\n",
       "    </tr>\n",
       "    <tr>\n",
       "      <th>745576</th>\n",
       "      <td>LALVA738960</td>\n",
       "      <td>Y</td>\n",
       "      <td>37.509310</td>\n",
       "      <td>-77.649680</td>\n",
       "      <td>M</td>\n",
       "      <td>041</td>\n",
       "    </tr>\n",
       "    <tr>\n",
       "      <th>2152787</th>\n",
       "      <td>LALVA471745169</td>\n",
       "      <td>Y</td>\n",
       "      <td>36.985720</td>\n",
       "      <td>-76.612630</td>\n",
       "      <td>M</td>\n",
       "      <td>093</td>\n",
       "    </tr>\n",
       "    <tr>\n",
       "      <th>3196996</th>\n",
       "      <td>LALVA398865370</td>\n",
       "      <td>NaN</td>\n",
       "      <td>37.241560</td>\n",
       "      <td>-79.995220</td>\n",
       "      <td>M</td>\n",
       "      <td>161</td>\n",
       "    </tr>\n",
       "  </tbody>\n",
       "</table>\n",
       "</div>"
      ],
      "text/plain": [
       "             LALVOTERID General_2016_11_08 Residence_Addresses_Latitude  \\\n",
       "4506497    LALVA4381855                  Y                    36.861190   \n",
       "3220820    LALVA1954212                  Y                    37.228351   \n",
       "745576      LALVA738960                  Y                    37.509310   \n",
       "2152787  LALVA471745169                  Y                    36.985720   \n",
       "3196996  LALVA398865370                NaN                    37.241560   \n",
       "\n",
       "        Residence_Addresses_Longitude Voters_Gender Voters_FIPS  \n",
       "4506497                    -76.266420             F         710  \n",
       "3220820                    -79.976485             M         161  \n",
       "745576                     -77.649680             M         041  \n",
       "2152787                    -76.612630             M         093  \n",
       "3196996                    -79.995220             M         161  "
      ]
     },
     "execution_count": 8,
     "metadata": {},
     "output_type": "execute_result"
    }
   ],
   "source": [
    "state_sample = merged_file.sample(frac=0.01)\n",
    "\n",
    "state_sample.head(5)"
   ]
  },
  {
   "cell_type": "markdown",
   "metadata": {},
   "source": [
    "Again, print out the info to see that its a valid sample size (actually one percent) and that it is using much less memory\n",
    "\n",
    "You'll know that the sampling worked if the index numbers are nonsequential and random also, you can test the length and info of your new sample"
   ]
  },
  {
   "cell_type": "code",
   "execution_count": 9,
   "metadata": {},
   "outputs": [
    {
     "name": "stdout",
     "output_type": "stream",
     "text": [
      "<class 'pandas.core.frame.DataFrame'>\n",
      "Int64Index: 52643 entries, 4506497 to 2917779\n",
      "Data columns (total 6 columns):\n",
      " #   Column                         Non-Null Count  Dtype \n",
      "---  ------                         --------------  ----- \n",
      " 0   LALVOTERID                     52643 non-null  object\n",
      " 1   General_2016_11_08             36531 non-null  object\n",
      " 2   Residence_Addresses_Latitude   52639 non-null  object\n",
      " 3   Residence_Addresses_Longitude  52639 non-null  object\n",
      " 4   Voters_Gender                  52643 non-null  object\n",
      " 5   Voters_FIPS                    52643 non-null  object\n",
      "dtypes: object(6)\n",
      "memory usage: 2.8+ MB\n"
     ]
    }
   ],
   "source": [
    "state_sample.info()"
   ]
  },
  {
   "cell_type": "markdown",
   "metadata": {},
   "source": [
    "## IV. Further Deidentifying Geocoded Locations: Jittering\n",
    "\n",
    "There are many other filtering and cleaning steps to be taken before writing out a new file\n",
    "\n",
    "For example, the coordinates can be identifying, even if you strip out all of the other PID variables, because they are geocoded to the address. You will want to jitter them if you intend to aggregate or visualize data.\n",
    "\n",
    "First, print out the data types to make sure what they are:"
   ]
  },
  {
   "cell_type": "code",
   "execution_count": 10,
   "metadata": {},
   "outputs": [
    {
     "data": {
      "text/plain": [
       "LALVOTERID                       object\n",
       "General_2016_11_08               object\n",
       "Residence_Addresses_Latitude     object\n",
       "Residence_Addresses_Longitude    object\n",
       "Voters_Gender                    object\n",
       "Voters_FIPS                      object\n",
       "dtype: object"
      ]
     },
     "execution_count": 10,
     "metadata": {},
     "output_type": "execute_result"
    }
   ],
   "source": [
    "state_sample.dtypes"
   ]
  },
  {
   "cell_type": "code",
   "execution_count": 11,
   "metadata": {},
   "outputs": [
    {
     "data": {
      "text/plain": [
       "LALVOTERID                        object\n",
       "General_2016_11_08                object\n",
       "Residence_Addresses_Latitude     float64\n",
       "Residence_Addresses_Longitude    float64\n",
       "Voters_Gender                     object\n",
       "Voters_FIPS                       object\n",
       "dtype: object"
      ]
     },
     "execution_count": 11,
     "metadata": {},
     "output_type": "execute_result"
    }
   ],
   "source": [
    "## In order to jitter the coordinates, you need to change them to a float\n",
    "\n",
    "state_sample['Residence_Addresses_Latitude'] = pd.to_numeric(state_sample['Residence_Addresses_Latitude']) \n",
    "state_sample['Residence_Addresses_Longitude'] = pd.to_numeric(state_sample['Residence_Addresses_Longitude']) \n",
    "\n",
    "state_sample.dtypes"
   ]
  },
  {
   "cell_type": "markdown",
   "metadata": {},
   "source": [
    "The module pyjanitor introduces a jitter method for dataframes that can be used to displace the exact coordinates of a location.\n",
    "\n",
    "We'll start with jittering the latitude. This library inserts a Gaussian distribution (\"noise\") equal to the standard deviation of the scale. The exact amount of the scale in jitter may need to change but this is a good starting place. You may want to test the results in a mapping software like QGIS or ArcMap before proceeding too far"
   ]
  },
  {
   "cell_type": "code",
   "execution_count": 12,
   "metadata": {},
   "outputs": [
    {
     "data": {
      "text/html": [
       "<div>\n",
       "<style scoped>\n",
       "    .dataframe tbody tr th:only-of-type {\n",
       "        vertical-align: middle;\n",
       "    }\n",
       "\n",
       "    .dataframe tbody tr th {\n",
       "        vertical-align: top;\n",
       "    }\n",
       "\n",
       "    .dataframe thead th {\n",
       "        text-align: right;\n",
       "    }\n",
       "</style>\n",
       "<table border=\"1\" class=\"dataframe\">\n",
       "  <thead>\n",
       "    <tr style=\"text-align: right;\">\n",
       "      <th></th>\n",
       "      <th>LALVOTERID</th>\n",
       "      <th>General_2016_11_08</th>\n",
       "      <th>Residence_Addresses_Latitude</th>\n",
       "      <th>Residence_Addresses_Longitude</th>\n",
       "      <th>Voters_Gender</th>\n",
       "      <th>Voters_FIPS</th>\n",
       "      <th>lat_jitter</th>\n",
       "    </tr>\n",
       "  </thead>\n",
       "  <tbody>\n",
       "    <tr>\n",
       "      <th>4506497</th>\n",
       "      <td>LALVA4381855</td>\n",
       "      <td>Y</td>\n",
       "      <td>36.861190</td>\n",
       "      <td>-76.266420</td>\n",
       "      <td>F</td>\n",
       "      <td>710</td>\n",
       "      <td>36.810290</td>\n",
       "    </tr>\n",
       "    <tr>\n",
       "      <th>3220820</th>\n",
       "      <td>LALVA1954212</td>\n",
       "      <td>Y</td>\n",
       "      <td>37.228351</td>\n",
       "      <td>-79.976485</td>\n",
       "      <td>M</td>\n",
       "      <td>161</td>\n",
       "      <td>37.255338</td>\n",
       "    </tr>\n",
       "    <tr>\n",
       "      <th>745576</th>\n",
       "      <td>LALVA738960</td>\n",
       "      <td>Y</td>\n",
       "      <td>37.509310</td>\n",
       "      <td>-77.649680</td>\n",
       "      <td>M</td>\n",
       "      <td>041</td>\n",
       "      <td>37.505897</td>\n",
       "    </tr>\n",
       "    <tr>\n",
       "      <th>2152787</th>\n",
       "      <td>LALVA471745169</td>\n",
       "      <td>Y</td>\n",
       "      <td>36.985720</td>\n",
       "      <td>-76.612630</td>\n",
       "      <td>M</td>\n",
       "      <td>093</td>\n",
       "      <td>36.955577</td>\n",
       "    </tr>\n",
       "    <tr>\n",
       "      <th>3196996</th>\n",
       "      <td>LALVA398865370</td>\n",
       "      <td>NaN</td>\n",
       "      <td>37.241560</td>\n",
       "      <td>-79.995220</td>\n",
       "      <td>M</td>\n",
       "      <td>161</td>\n",
       "      <td>37.181218</td>\n",
       "    </tr>\n",
       "  </tbody>\n",
       "</table>\n",
       "</div>"
      ],
      "text/plain": [
       "             LALVOTERID General_2016_11_08  Residence_Addresses_Latitude  \\\n",
       "4506497    LALVA4381855                  Y                     36.861190   \n",
       "3220820    LALVA1954212                  Y                     37.228351   \n",
       "745576      LALVA738960                  Y                     37.509310   \n",
       "2152787  LALVA471745169                  Y                     36.985720   \n",
       "3196996  LALVA398865370                NaN                     37.241560   \n",
       "\n",
       "         Residence_Addresses_Longitude Voters_Gender Voters_FIPS  lat_jitter  \n",
       "4506497                     -76.266420             F         710   36.810290  \n",
       "3220820                     -79.976485             M         161   37.255338  \n",
       "745576                      -77.649680             M         041   37.505897  \n",
       "2152787                     -76.612630             M         093   36.955577  \n",
       "3196996                     -79.995220             M         161   37.181218  "
      ]
     },
     "execution_count": 12,
     "metadata": {},
     "output_type": "execute_result"
    }
   ],
   "source": [
    "jittered_lat = state_sample.jitter(\n",
    "    column_name='Residence_Addresses_Latitude',\n",
    "    dest_column_name='lat_jitter',\n",
    "    scale=0.05,\n",
    "    clip=None,\n",
    "    random_state=None,\n",
    ")\n",
    "\n",
    "jittered_lat.head(5)"
   ]
  },
  {
   "cell_type": "code",
   "execution_count": 13,
   "metadata": {
    "scrolled": true
   },
   "outputs": [
    {
     "data": {
      "text/html": [
       "<div>\n",
       "<style scoped>\n",
       "    .dataframe tbody tr th:only-of-type {\n",
       "        vertical-align: middle;\n",
       "    }\n",
       "\n",
       "    .dataframe tbody tr th {\n",
       "        vertical-align: top;\n",
       "    }\n",
       "\n",
       "    .dataframe thead th {\n",
       "        text-align: right;\n",
       "    }\n",
       "</style>\n",
       "<table border=\"1\" class=\"dataframe\">\n",
       "  <thead>\n",
       "    <tr style=\"text-align: right;\">\n",
       "      <th></th>\n",
       "      <th>LALVOTERID</th>\n",
       "      <th>General_2016_11_08</th>\n",
       "      <th>Residence_Addresses_Latitude</th>\n",
       "      <th>Residence_Addresses_Longitude</th>\n",
       "      <th>Voters_Gender</th>\n",
       "      <th>Voters_FIPS</th>\n",
       "      <th>lat_jitter</th>\n",
       "      <th>long_jitter</th>\n",
       "    </tr>\n",
       "  </thead>\n",
       "  <tbody>\n",
       "    <tr>\n",
       "      <th>4506497</th>\n",
       "      <td>LALVA4381855</td>\n",
       "      <td>Y</td>\n",
       "      <td>36.861190</td>\n",
       "      <td>-76.266420</td>\n",
       "      <td>F</td>\n",
       "      <td>710</td>\n",
       "      <td>36.810290</td>\n",
       "      <td>-76.255566</td>\n",
       "    </tr>\n",
       "    <tr>\n",
       "      <th>3220820</th>\n",
       "      <td>LALVA1954212</td>\n",
       "      <td>Y</td>\n",
       "      <td>37.228351</td>\n",
       "      <td>-79.976485</td>\n",
       "      <td>M</td>\n",
       "      <td>161</td>\n",
       "      <td>37.255338</td>\n",
       "      <td>-80.044706</td>\n",
       "    </tr>\n",
       "    <tr>\n",
       "      <th>745576</th>\n",
       "      <td>LALVA738960</td>\n",
       "      <td>Y</td>\n",
       "      <td>37.509310</td>\n",
       "      <td>-77.649680</td>\n",
       "      <td>M</td>\n",
       "      <td>041</td>\n",
       "      <td>37.505897</td>\n",
       "      <td>-77.576737</td>\n",
       "    </tr>\n",
       "    <tr>\n",
       "      <th>2152787</th>\n",
       "      <td>LALVA471745169</td>\n",
       "      <td>Y</td>\n",
       "      <td>36.985720</td>\n",
       "      <td>-76.612630</td>\n",
       "      <td>M</td>\n",
       "      <td>093</td>\n",
       "      <td>36.955577</td>\n",
       "      <td>-76.638565</td>\n",
       "    </tr>\n",
       "    <tr>\n",
       "      <th>3196996</th>\n",
       "      <td>LALVA398865370</td>\n",
       "      <td>NaN</td>\n",
       "      <td>37.241560</td>\n",
       "      <td>-79.995220</td>\n",
       "      <td>M</td>\n",
       "      <td>161</td>\n",
       "      <td>37.181218</td>\n",
       "      <td>-79.913420</td>\n",
       "    </tr>\n",
       "  </tbody>\n",
       "</table>\n",
       "</div>"
      ],
      "text/plain": [
       "             LALVOTERID General_2016_11_08  Residence_Addresses_Latitude  \\\n",
       "4506497    LALVA4381855                  Y                     36.861190   \n",
       "3220820    LALVA1954212                  Y                     37.228351   \n",
       "745576      LALVA738960                  Y                     37.509310   \n",
       "2152787  LALVA471745169                  Y                     36.985720   \n",
       "3196996  LALVA398865370                NaN                     37.241560   \n",
       "\n",
       "         Residence_Addresses_Longitude Voters_Gender Voters_FIPS  lat_jitter  \\\n",
       "4506497                     -76.266420             F         710   36.810290   \n",
       "3220820                     -79.976485             M         161   37.255338   \n",
       "745576                      -77.649680             M         041   37.505897   \n",
       "2152787                     -76.612630             M         093   36.955577   \n",
       "3196996                     -79.995220             M         161   37.181218   \n",
       "\n",
       "         long_jitter  \n",
       "4506497   -76.255566  \n",
       "3220820   -80.044706  \n",
       "745576    -77.576737  \n",
       "2152787   -76.638565  \n",
       "3196996   -79.913420  "
      ]
     },
     "execution_count": 13,
     "metadata": {},
     "output_type": "execute_result"
    }
   ],
   "source": [
    "## Now we jitter the longitude\n",
    "\n",
    "jittered_long = state_sample.jitter(\n",
    "    column_name='Residence_Addresses_Longitude',\n",
    "    dest_column_name='long_jitter',\n",
    "    scale=0.05,\n",
    "    clip=None,\n",
    "    random_state=None,\n",
    ")\n",
    "\n",
    "jittered_long.head(5)"
   ]
  },
  {
   "cell_type": "markdown",
   "metadata": {},
   "source": [
    "To complete the jittering process, make sure you drop off the actual Residence_Addresses columns.\n",
    "\n",
    "With this last dataframe, you should have a one percent sample that has jittered lat long coordinates, voter gender, whether or not they voted in 2016, and their unique ID:\n"
   ]
  },
  {
   "cell_type": "code",
   "execution_count": 14,
   "metadata": {},
   "outputs": [
    {
     "data": {
      "text/html": [
       "<div>\n",
       "<style scoped>\n",
       "    .dataframe tbody tr th:only-of-type {\n",
       "        vertical-align: middle;\n",
       "    }\n",
       "\n",
       "    .dataframe tbody tr th {\n",
       "        vertical-align: top;\n",
       "    }\n",
       "\n",
       "    .dataframe thead th {\n",
       "        text-align: right;\n",
       "    }\n",
       "</style>\n",
       "<table border=\"1\" class=\"dataframe\">\n",
       "  <thead>\n",
       "    <tr style=\"text-align: right;\">\n",
       "      <th></th>\n",
       "      <th>LALVOTERID</th>\n",
       "      <th>General_2016_11_08</th>\n",
       "      <th>Voters_Gender</th>\n",
       "      <th>Voters_FIPS</th>\n",
       "      <th>lat_jitter</th>\n",
       "      <th>long_jitter</th>\n",
       "    </tr>\n",
       "  </thead>\n",
       "  <tbody>\n",
       "    <tr>\n",
       "      <th>4506497</th>\n",
       "      <td>LALVA4381855</td>\n",
       "      <td>Y</td>\n",
       "      <td>F</td>\n",
       "      <td>710</td>\n",
       "      <td>36.810290</td>\n",
       "      <td>-76.255566</td>\n",
       "    </tr>\n",
       "    <tr>\n",
       "      <th>3220820</th>\n",
       "      <td>LALVA1954212</td>\n",
       "      <td>Y</td>\n",
       "      <td>M</td>\n",
       "      <td>161</td>\n",
       "      <td>37.255338</td>\n",
       "      <td>-80.044706</td>\n",
       "    </tr>\n",
       "    <tr>\n",
       "      <th>745576</th>\n",
       "      <td>LALVA738960</td>\n",
       "      <td>Y</td>\n",
       "      <td>M</td>\n",
       "      <td>041</td>\n",
       "      <td>37.505897</td>\n",
       "      <td>-77.576737</td>\n",
       "    </tr>\n",
       "    <tr>\n",
       "      <th>2152787</th>\n",
       "      <td>LALVA471745169</td>\n",
       "      <td>Y</td>\n",
       "      <td>M</td>\n",
       "      <td>093</td>\n",
       "      <td>36.955577</td>\n",
       "      <td>-76.638565</td>\n",
       "    </tr>\n",
       "    <tr>\n",
       "      <th>3196996</th>\n",
       "      <td>LALVA398865370</td>\n",
       "      <td>NaN</td>\n",
       "      <td>M</td>\n",
       "      <td>161</td>\n",
       "      <td>37.181218</td>\n",
       "      <td>-79.913420</td>\n",
       "    </tr>\n",
       "  </tbody>\n",
       "</table>\n",
       "</div>"
      ],
      "text/plain": [
       "             LALVOTERID General_2016_11_08 Voters_Gender Voters_FIPS  \\\n",
       "4506497    LALVA4381855                  Y             F         710   \n",
       "3220820    LALVA1954212                  Y             M         161   \n",
       "745576      LALVA738960                  Y             M         041   \n",
       "2152787  LALVA471745169                  Y             M         093   \n",
       "3196996  LALVA398865370                NaN             M         161   \n",
       "\n",
       "         lat_jitter  long_jitter  \n",
       "4506497   36.810290   -76.255566  \n",
       "3220820   37.255338   -80.044706  \n",
       "745576    37.505897   -77.576737  \n",
       "2152787   36.955577   -76.638565  \n",
       "3196996   37.181218   -79.913420  "
      ]
     },
     "execution_count": 14,
     "metadata": {},
     "output_type": "execute_result"
    }
   ],
   "source": [
    "stripped_sample = jittered_long.drop(columns=['Residence_Addresses_Latitude', 'Residence_Addresses_Longitude'])\n",
    "\n",
    "stripped_sample.head(5)"
   ]
  },
  {
   "cell_type": "markdown",
   "metadata": {},
   "source": [
    "## V. Saving the Resulting Dataframe to a CSV\n",
    "\n",
    "Finally, you may want to write out the sample to a CSV, leaving out the index that Pandas creates and stipulating the encoding into utf-8"
   ]
  },
  {
   "cell_type": "code",
   "execution_count": null,
   "metadata": {
    "collapsed": true
   },
   "outputs": [],
   "source": [
    "stripped_sample.to_csv(r'virginia-onepercent-sample.csv', index=False, encoding='utf-8')"
   ]
  },
  {
   "cell_type": "markdown",
   "metadata": {},
   "source": [
    "In the course of your analysis, you may want to repeat this process for multiple states and/or develop an aggregate roster of voters culled from a subset. You are encouraged to visit the tools section on the [L2 Political LibGuide at NYU Libraries](https://guides.nyu.edu/l2political/tools).\n",
    "\n",
    "In general, you should have a data management plan with these files that includes the following elements:\n",
    "\n",
    "- Secure any original .tab files you've downloaded by storing them in a single directory location, and then deleting the original .tab files once you've generated extracts\n",
    "- Manage your extracted samples in a secure environment\n",
    "\n",
    "Simple scripts and suggestions are available on the L2 Political LibGuide. \n"
   ]
  },
  {
   "cell_type": "markdown",
   "metadata": {},
   "source": [
    "## Saahil Test\n",
    "### Dropping Private/Redundant columns"
   ]
  },
  {
   "cell_type": "code",
   "execution_count": 2,
   "metadata": {},
   "outputs": [],
   "source": [
    "state_demographic_ak = pd.read_csv(r'C:\\Users\\saahi\\Desktop\\VM2--AK--2020-03-18-DEMOGRAPHIC.tab', \n",
    "                                sep='\\t', dtype=str, encoding='unicode_escape')"
   ]
  },
  {
   "cell_type": "code",
   "execution_count": 3,
   "metadata": {},
   "outputs": [],
   "source": [
    "def drop_private(df):\n",
    "    # list of all columns that contain private information\n",
    "    private_cols = ['VoterTelephones_Landline7Digit'\n",
    "                    ,'VoterTelephones_LandlineUnformatted'\n",
    "                    ,'VoterTelephones_CellPhoneFormatted'\n",
    "                    ,'VoterTelephones_CellPhoneUnformatted'\n",
    "                    ,'Voters_FirstName'\n",
    "                    ,'Voters_MiddleName'\n",
    "                    ,'Voters_LastName'\n",
    "                    ,'Voters_NameSuffix'\n",
    "                    ,'Residence_Addresses_AddressLine'\n",
    "                    ,'Residence_Addresses_ExtraAddressLine'\n",
    "                    ,'Residence_Addresses_ZipPlus4'\n",
    "                    ,'Residence_Addresses_HouseNumber'\n",
    "                    ,'Residence_Addresses_PrefixDirection'\n",
    "                    ,'Residence_Addresses_StreetName'\n",
    "                    ,'Residence_Addresses_Designator'\n",
    "                    ,'Residence_Addresses_SuffixDirection'\n",
    "                    ,'Residence_Addresses_ApartmentNum'\n",
    "                    ,'Residence_Families_FamilyID'\n",
    "                    ,'Mailing_Addresses_AddressLine'\n",
    "                    ,'Mailing_Addresses_ExtraAddressLine'\n",
    "                    ,'Mailing_Addresses_HouseNumber'\n",
    "                    ,'Mailing_Addresses_PrefixDirection'\n",
    "                    ,'Mailing_Addresses_StreetName'\n",
    "                    ,'Mailing_Addresses_Designator'\n",
    "                    ,'Mailing_Addresses_SuffixDirection'\n",
    "                    ,'Mailing_Addresses_ApartmentNum'\n",
    "                    ,'Mailing_Families_FamilyID'\n",
    "                    ,'Voters_BirthDate'\n",
    "                    ,'Residence_Addresses_City'\n",
    "                    ,'DateConfidence_Description'\n",
    "                    ,'Precinct'\n",
    "                    ,'VoterTelephones_LandlineAreaCode'\n",
    "                    ,'Residence_Addresses_State' \n",
    "                    ,'Residence_Addresses_LatLongAccuracy']\n",
    "    \n",
    "    indices_to_drop = []\n",
    "    # getting the indices for columns containing private information\n",
    "    for i in range(df.shape[1]):\n",
    "        for j in range(len(private_cols)):\n",
    "            if private_cols[j] == df.columns[i]:\n",
    "                indices_to_drop.append(i)\n",
    "    \n",
    "    # dropping the relevant columns            \n",
    "    df.drop(df.columns[indices_to_drop], axis = 1, inplace = True)\n",
    "    \n",
    "    return df"
   ]
  },
  {
   "cell_type": "code",
   "execution_count": 4,
   "metadata": {},
   "outputs": [
    {
     "data": {
      "text/plain": [
       "612"
      ]
     },
     "execution_count": 4,
     "metadata": {},
     "output_type": "execute_result"
    }
   ],
   "source": [
    "data = drop_private(state_demographic_ak)\n",
    "data.shape[1]"
   ]
  },
  {
   "cell_type": "markdown",
   "metadata": {},
   "source": [
    "### Threshold"
   ]
  },
  {
   "cell_type": "code",
   "execution_count": 5,
   "metadata": {},
   "outputs": [],
   "source": [
    "def data_threshold(df):\n",
    "    # Dropping all columns that have 75% or more null values\n",
    "    dt = int(0.75*df.shape[0])\n",
    "    df.dropna(axis=1, thresh=dt, inplace=True)\n",
    "    return df"
   ]
  },
  {
   "cell_type": "code",
   "execution_count": 6,
   "metadata": {},
   "outputs": [
    {
     "data": {
      "text/plain": [
       "195"
      ]
     },
     "execution_count": 6,
     "metadata": {},
     "output_type": "execute_result"
    }
   ],
   "source": [
    "data = data_threshold(data)\n",
    "data.shape[1]"
   ]
  },
  {
   "cell_type": "code",
   "execution_count": 7,
   "metadata": {},
   "outputs": [],
   "source": [
    "# print(data.columns.values)\n",
    "test_data  = data.copy()"
   ]
  },
  {
   "cell_type": "markdown",
   "metadata": {},
   "source": [
    "## Cleaning Data\n",
    "#### Data-type for all columns is 'object'. The following method converts all possible columns to numeric"
   ]
  },
  {
   "cell_type": "code",
   "execution_count": 8,
   "metadata": {},
   "outputs": [],
   "source": [
    "# Function converts the obvious numeric columns into int/float\n",
    "def prelim_numeric_converter(df):\n",
    "    df.loc[:, df.columns.str.startswith('Commercial')] = df.loc[:, df.columns.str.startswith('Commercial')].replace([\"$\"], \"\", regex=True)\n",
    "    cols = df.columns\n",
    "    for c in cols:\n",
    "        try:\n",
    "            df[c] = pd.to_numeric(df[c])\n",
    "        except:\n",
    "            pass\n",
    "    return df"
   ]
  },
  {
   "cell_type": "code",
   "execution_count": 16,
   "metadata": {},
   "outputs": [],
   "source": [
    "data = prelim_numeric_converter(data)"
   ]
  },
  {
   "cell_type": "markdown",
   "metadata": {},
   "source": [
    "#### The following methods, while resource heavy, relpace '\\%' with \"\" for columns on Election Data:"
   ]
  },
  {
   "cell_type": "code",
   "execution_count": 10,
   "metadata": {},
   "outputs": [],
   "source": [
    "# converting election results to numeric (resource heavy)\n",
    "def election_numeric_converter(df):\n",
    "    col_len = df.shape[1]-1\n",
    "    df.loc[:, df.columns.str.startswith('Election')] = df.loc[:, df.columns.str.startswith('Election')].replace([\"%\"], \"\", regex=True)\n",
    "    for i in range(df.loc[:, df.columns.str.startswith('Election')].shape[1]):\n",
    "        try:\n",
    "            df.iloc[:, col_len-i] = pd.to_numeric(df.iloc[:, col_len-i])\n",
    "        except:\n",
    "            pass\n",
    "    return df"
   ]
  },
  {
   "cell_type": "code",
   "execution_count": 17,
   "metadata": {},
   "outputs": [],
   "source": [
    "data = election_numeric_converter(data)"
   ]
  },
  {
   "cell_type": "code",
   "execution_count": 18,
   "metadata": {},
   "outputs": [
    {
     "data": {
      "text/plain": [
       "float64    117\n",
       "int64       49\n",
       "object      29\n",
       "dtype: int64"
      ]
     },
     "execution_count": 18,
     "metadata": {},
     "output_type": "execute_result"
    }
   ],
   "source": [
    "data.dtypes.value_counts()"
   ]
  },
  {
   "cell_type": "code",
   "execution_count": 14,
   "metadata": {},
   "outputs": [
    {
     "data": {
      "text/plain": [
       "0         26.0\n",
       "1         26.0\n",
       "2         26.0\n",
       "3         26.0\n",
       "4         26.0\n",
       "          ... \n",
       "522488    26.0\n",
       "522489    26.0\n",
       "522490    26.0\n",
       "522491    26.0\n",
       "522492    26.0\n",
       "Name: ElectionReturns_P18PrecinctTurnoutRepublicans, Length: 522493, dtype: float64"
      ]
     },
     "execution_count": 14,
     "metadata": {},
     "output_type": "execute_result"
    }
   ],
   "source": [
    "data['ElectionReturns_P18PrecinctTurnoutRepublicans']\n",
    "#data.head(10)"
   ]
  },
  {
   "cell_type": "code",
   "execution_count": 19,
   "metadata": {},
   "outputs": [],
   "source": [
    "test_data_converted = data.copy()"
   ]
  },
  {
   "cell_type": "markdown",
   "metadata": {},
   "source": [
    "## Imputation using Machine Learning"
   ]
  },
  {
   "cell_type": "markdown",
   "metadata": {},
   "source": [
    "### Converting Binary to 1 & 0 \n",
    "#### Can't figure out what NaN values are 0 and what are empty so Im just gonna not impute values for them"
   ]
  },
  {
   "cell_type": "code",
   "execution_count": 98,
   "metadata": {},
   "outputs": [],
   "source": [
    "# to re-initiate the smaller, numeric dataset\n",
    "data = test_data_converted.copy()"
   ]
  },
  {
   "cell_type": "code",
   "execution_count": 142,
   "metadata": {},
   "outputs": [],
   "source": [
    "# run after dropping personal data and threshold\n",
    "def knn_imputation(df):\n",
    "    binary = []\n",
    "    # Getting the indices for columns that are binary\n",
    "    for i in range(df.shape[1]):\n",
    "        if (df.iloc[ : , i].isnull().values.any()):\n",
    "            if (len(df.iloc[ : , i].value_counts()) == 1):\n",
    "                binary.append(i)\n",
    "    # Temporarily drop binary columns \n",
    "    temp_data_1 = data.columns[binary].copy()            \n",
    "    data.drop(data.columns[binary], axis = 1, inplace = True)\n",
    "    \n",
    "    imputer = IterativeImputer()\n",
    "    imputer.fit(data)\n",
    "    Xtrans = imputer.transform(data)"
   ]
  },
  {
   "cell_type": "markdown",
   "metadata": {},
   "source": [
    "### PCA for Election Results"
   ]
  },
  {
   "cell_type": "code",
   "execution_count": 20,
   "metadata": {},
   "outputs": [],
   "source": [
    "def drop_binary(df):    \n",
    "    binary = []\n",
    "    # Getting the indices for columns that are binary\n",
    "    for i in range(df.shape[1]):\n",
    "        if (df.iloc[ : , i].isnull().values.any()):\n",
    "            if (len(df.iloc[ : , i].value_counts()) == 1):\n",
    "                binary.append(i)\n",
    "    df.drop(df.columns[binary], axis = 1, inplace = True)\n",
    "    return df"
   ]
  },
  {
   "cell_type": "code",
   "execution_count": 37,
   "metadata": {},
   "outputs": [],
   "source": [
    "# Plotting the cumulative explained variance to determine the required covariates\n",
    "def pca_plot(df):\n",
    "    df = df.select_dtypes(exclude=['object']).copy()\n",
    "    df = drop_binary(df)\n",
    "    df.fillna(0, inplace=True)\n",
    "    pca = PCA().fit(df)\n",
    "    f = np.cumsum(pca.explained_variance_ratio_)\n",
    "    g = hlines\n",
    "    plt.plot(f)\n",
    "    plt.xlabel('number of components')\n",
    "    plt.ylabel('cumulative explained variance')\n",
    "    plt.xlim([0, 50])\n",
    "    plt.grid()\n",
    "    plt.grid(which='minor', alpha=0.2)\n",
    "    plt.grid(which='major', alpha=0.5)\n",
    "    idx = np.argwhere(np.diff(np.sign(f - g))).flatten()\n",
    "    plt.title(\"Cumulative explained variance vs. Number of Covariates\")"
   ]
  },
  {
   "cell_type": "code",
   "execution_count": 38,
   "metadata": {},
   "outputs": [
    {
     "data": {
      "image/png": "[encoded data removed]",
      "text/plain": [
       "<Figure size 432x288 with 1 Axes>"
      ]
     },
     "metadata": {
      "needs_background": "light"
     },
     "output_type": "display_data"
    }
   ],
   "source": [
    "pca_plot(data)"
   ]
  },
  {
   "cell_type": "code",
   "execution_count": 103,
   "metadata": {},
   "outputs": [],
   "source": [
    "def knn_imputation(df):\n",
    "    df = df.select_dtypes(exclude=['object']).copy()\n",
    "    df = drop_binary(df)\n",
    "    df.head()\n",
    "    imputer = KNNImputer(n_neighbors = int((df.shape[0]**(1/2))/2))\n",
    "    imputer.fit_transform(df)"
   ]
  },
  {
   "cell_type": "code",
   "execution_count": 95,
   "metadata": {},
   "outputs": [
    {
     "data": {
      "text/html": [
       "<div>\n",
       "<style scoped>\n",
       "    .dataframe tbody tr th:only-of-type {\n",
       "        vertical-align: middle;\n",
       "    }\n",
       "\n",
       "    .dataframe tbody tr th {\n",
       "        vertical-align: top;\n",
       "    }\n",
       "\n",
       "    .dataframe thead th {\n",
       "        text-align: right;\n",
       "    }\n",
       "</style>\n",
       "<table border=\"1\" class=\"dataframe\">\n",
       "  <thead>\n",
       "    <tr style=\"text-align: right;\">\n",
       "      <th></th>\n",
       "      <th>SEQUENCE</th>\n",
       "      <th>LALVOTERID</th>\n",
       "      <th>Voters_Active</th>\n",
       "      <th>Voters_StateVoterID</th>\n",
       "      <th>Residence_Addresses_Zip</th>\n",
       "      <th>Residence_Addresses_CassErrStatCode</th>\n",
       "      <th>Voters_SequenceZigZag</th>\n",
       "      <th>Voters_SequenceOddEven</th>\n",
       "      <th>Residence_Addresses_CensusTract</th>\n",
       "      <th>Residence_Addresses_CensusBlockGroup</th>\n",
       "      <th>...</th>\n",
       "      <th>ElectionReturns_P16CountyTurnoutRepublicans</th>\n",
       "      <th>ElectionReturns_P16PrecinctTurnoutAllRegisteredVoters</th>\n",
       "      <th>ElectionReturns_P16PrecinctTurnoutDemocrats</th>\n",
       "      <th>ElectionReturns_P16PrecinctTurnoutRepublicans</th>\n",
       "      <th>ElectionReturns_P18CountyTurnoutAllRegisteredVoters</th>\n",
       "      <th>ElectionReturns_P18CountyTurnoutDemocrats</th>\n",
       "      <th>ElectionReturns_P18CountyTurnoutRepublicans</th>\n",
       "      <th>ElectionReturns_P18PrecinctTurnoutAllRegisteredVoters</th>\n",
       "      <th>ElectionReturns_P18PrecinctTurnoutDemocrats</th>\n",
       "      <th>ElectionReturns_P18PrecinctTurnoutRepublicans</th>\n",
       "    </tr>\n",
       "  </thead>\n",
       "  <tbody>\n",
       "    <tr>\n",
       "      <th>0</th>\n",
       "      <td>1</td>\n",
       "      <td>LALAK410126890</td>\n",
       "      <td>A</td>\n",
       "      <td>1135871</td>\n",
       "      <td>99553.0</td>\n",
       "      <td>E412</td>\n",
       "      <td>0</td>\n",
       "      <td>0</td>\n",
       "      <td>100.0</td>\n",
       "      <td>1.0</td>\n",
       "      <td>...</td>\n",
       "      <td>28</td>\n",
       "      <td>36.0</td>\n",
       "      <td>41.0</td>\n",
       "      <td>38.0</td>\n",
       "      <td>17</td>\n",
       "      <td>20</td>\n",
       "      <td>22</td>\n",
       "      <td>19.0</td>\n",
       "      <td>19.0</td>\n",
       "      <td>26.0</td>\n",
       "    </tr>\n",
       "    <tr>\n",
       "      <th>1</th>\n",
       "      <td>2</td>\n",
       "      <td>LALAK504532417</td>\n",
       "      <td>A</td>\n",
       "      <td>1230757</td>\n",
       "      <td>99553.0</td>\n",
       "      <td>E421</td>\n",
       "      <td>1</td>\n",
       "      <td>1</td>\n",
       "      <td>100.0</td>\n",
       "      <td>1.0</td>\n",
       "      <td>...</td>\n",
       "      <td>28</td>\n",
       "      <td>36.0</td>\n",
       "      <td>41.0</td>\n",
       "      <td>38.0</td>\n",
       "      <td>17</td>\n",
       "      <td>20</td>\n",
       "      <td>22</td>\n",
       "      <td>19.0</td>\n",
       "      <td>19.0</td>\n",
       "      <td>26.0</td>\n",
       "    </tr>\n",
       "    <tr>\n",
       "      <th>2</th>\n",
       "      <td>3</td>\n",
       "      <td>LALAK177113938</td>\n",
       "      <td>A</td>\n",
       "      <td>994519</td>\n",
       "      <td>99553.0</td>\n",
       "      <td>E412</td>\n",
       "      <td>2</td>\n",
       "      <td>2</td>\n",
       "      <td>NaN</td>\n",
       "      <td>NaN</td>\n",
       "      <td>...</td>\n",
       "      <td>28</td>\n",
       "      <td>36.0</td>\n",
       "      <td>41.0</td>\n",
       "      <td>38.0</td>\n",
       "      <td>17</td>\n",
       "      <td>20</td>\n",
       "      <td>22</td>\n",
       "      <td>19.0</td>\n",
       "      <td>19.0</td>\n",
       "      <td>26.0</td>\n",
       "    </tr>\n",
       "    <tr>\n",
       "      <th>3</th>\n",
       "      <td>4</td>\n",
       "      <td>LALAK177127696</td>\n",
       "      <td>A</td>\n",
       "      <td>994764</td>\n",
       "      <td>99553.0</td>\n",
       "      <td>E412</td>\n",
       "      <td>3</td>\n",
       "      <td>3</td>\n",
       "      <td>NaN</td>\n",
       "      <td>NaN</td>\n",
       "      <td>...</td>\n",
       "      <td>28</td>\n",
       "      <td>36.0</td>\n",
       "      <td>41.0</td>\n",
       "      <td>38.0</td>\n",
       "      <td>17</td>\n",
       "      <td>20</td>\n",
       "      <td>22</td>\n",
       "      <td>19.0</td>\n",
       "      <td>19.0</td>\n",
       "      <td>26.0</td>\n",
       "    </tr>\n",
       "    <tr>\n",
       "      <th>4</th>\n",
       "      <td>5</td>\n",
       "      <td>LALAK470911183</td>\n",
       "      <td>A</td>\n",
       "      <td>1202491</td>\n",
       "      <td>99553.0</td>\n",
       "      <td>E412</td>\n",
       "      <td>4</td>\n",
       "      <td>4</td>\n",
       "      <td>100.0</td>\n",
       "      <td>1.0</td>\n",
       "      <td>...</td>\n",
       "      <td>28</td>\n",
       "      <td>36.0</td>\n",
       "      <td>41.0</td>\n",
       "      <td>38.0</td>\n",
       "      <td>17</td>\n",
       "      <td>20</td>\n",
       "      <td>22</td>\n",
       "      <td>19.0</td>\n",
       "      <td>19.0</td>\n",
       "      <td>26.0</td>\n",
       "    </tr>\n",
       "  </tbody>\n",
       "</table>\n",
       "<p>5 rows × 166 columns</p>\n",
       "</div>"
      ],
      "text/plain": [
       "   SEQUENCE      LALVOTERID Voters_Active  Voters_StateVoterID  \\\n",
       "0         1  LALAK410126890             A              1135871   \n",
       "1         2  LALAK504532417             A              1230757   \n",
       "2         3  LALAK177113938             A               994519   \n",
       "3         4  LALAK177127696             A               994764   \n",
       "4         5  LALAK470911183             A              1202491   \n",
       "\n",
       "   Residence_Addresses_Zip Residence_Addresses_CassErrStatCode  \\\n",
       "0                  99553.0                                E412   \n",
       "1                  99553.0                                E421   \n",
       "2                  99553.0                                E412   \n",
       "3                  99553.0                                E412   \n",
       "4                  99553.0                                E412   \n",
       "\n",
       "   Voters_SequenceZigZag  Voters_SequenceOddEven  \\\n",
       "0                      0                       0   \n",
       "1                      1                       1   \n",
       "2                      2                       2   \n",
       "3                      3                       3   \n",
       "4                      4                       4   \n",
       "\n",
       "   Residence_Addresses_CensusTract  Residence_Addresses_CensusBlockGroup  ...  \\\n",
       "0                            100.0                                   1.0  ...   \n",
       "1                            100.0                                   1.0  ...   \n",
       "2                              NaN                                   NaN  ...   \n",
       "3                              NaN                                   NaN  ...   \n",
       "4                            100.0                                   1.0  ...   \n",
       "\n",
       "   ElectionReturns_P16CountyTurnoutRepublicans  \\\n",
       "0                                           28   \n",
       "1                                           28   \n",
       "2                                           28   \n",
       "3                                           28   \n",
       "4                                           28   \n",
       "\n",
       "   ElectionReturns_P16PrecinctTurnoutAllRegisteredVoters  \\\n",
       "0                                               36.0       \n",
       "1                                               36.0       \n",
       "2                                               36.0       \n",
       "3                                               36.0       \n",
       "4                                               36.0       \n",
       "\n",
       "   ElectionReturns_P16PrecinctTurnoutDemocrats  \\\n",
       "0                                         41.0   \n",
       "1                                         41.0   \n",
       "2                                         41.0   \n",
       "3                                         41.0   \n",
       "4                                         41.0   \n",
       "\n",
       "   ElectionReturns_P16PrecinctTurnoutRepublicans  \\\n",
       "0                                           38.0   \n",
       "1                                           38.0   \n",
       "2                                           38.0   \n",
       "3                                           38.0   \n",
       "4                                           38.0   \n",
       "\n",
       "   ElectionReturns_P18CountyTurnoutAllRegisteredVoters  \\\n",
       "0                                                 17     \n",
       "1                                                 17     \n",
       "2                                                 17     \n",
       "3                                                 17     \n",
       "4                                                 17     \n",
       "\n",
       "  ElectionReturns_P18CountyTurnoutDemocrats  \\\n",
       "0                                        20   \n",
       "1                                        20   \n",
       "2                                        20   \n",
       "3                                        20   \n",
       "4                                        20   \n",
       "\n",
       "  ElectionReturns_P18CountyTurnoutRepublicans  \\\n",
       "0                                          22   \n",
       "1                                          22   \n",
       "2                                          22   \n",
       "3                                          22   \n",
       "4                                          22   \n",
       "\n",
       "  ElectionReturns_P18PrecinctTurnoutAllRegisteredVoters  \\\n",
       "0                                               19.0      \n",
       "1                                               19.0      \n",
       "2                                               19.0      \n",
       "3                                               19.0      \n",
       "4                                               19.0      \n",
       "\n",
       "  ElectionReturns_P18PrecinctTurnoutDemocrats  \\\n",
       "0                                        19.0   \n",
       "1                                        19.0   \n",
       "2                                        19.0   \n",
       "3                                        19.0   \n",
       "4                                        19.0   \n",
       "\n",
       "   ElectionReturns_P18PrecinctTurnoutRepublicans  \n",
       "0                                           26.0  \n",
       "1                                           26.0  \n",
       "2                                           26.0  \n",
       "3                                           26.0  \n",
       "4                                           26.0  \n",
       "\n",
       "[5 rows x 166 columns]"
      ]
     },
     "execution_count": 95,
     "metadata": {},
     "output_type": "execute_result"
    }
   ],
   "source": [
    "data.head()"
   ]
  },
  {
   "cell_type": "code",
   "execution_count": null,
   "metadata": {},
   "outputs": [],
   "source": [
    "pca"
   ]
  },
  {
   "cell_type": "code",
   "execution_count": 75,
   "metadata": {},
   "outputs": [
    {
     "data": {
      "text/plain": [
       "SEQUENCE                                                   int64\n",
       "Voters_StateVoterID                                        int64\n",
       "Residence_Addresses_Zip                                  float64\n",
       "Voters_SequenceZigZag                                      int64\n",
       "Voters_SequenceOddEven                                     int64\n",
       "                                                          ...   \n",
       "ElectionReturns_P18CountyTurnoutDemocrats                  int64\n",
       "ElectionReturns_P18CountyTurnoutRepublicans                int64\n",
       "ElectionReturns_P18PrecinctTurnoutAllRegisteredVoters    float64\n",
       "ElectionReturns_P18PrecinctTurnoutDemocrats              float64\n",
       "ElectionReturns_P18PrecinctTurnoutRepublicans            float64\n",
       "Length: 138, dtype: object"
      ]
     },
     "execution_count": 75,
     "metadata": {},
     "output_type": "execute_result"
    }
   ],
   "source": [
    "data.select_dtypes(exclude=['object']).dtypes"
   ]
  },
  {
   "cell_type": "code",
   "execution_count": null,
   "metadata": {},
   "outputs": [],
   "source": []
  }
 ],
 "metadata": {
  "kernelspec": {
   "display_name": "Python 3",
   "language": "python",
   "name": "python3"
  },
  "language_info": {
   "codemirror_mode": {
    "name": "ipython",
    "version": 3
   },
   "file_extension": ".py",
   "mimetype": "text/x-python",
   "name": "python",
   "nbconvert_exporter": "python",
   "pygments_lexer": "ipython3",
   "version": "3.8.3"
  }
 },
 "nbformat": 4,
 "nbformat_minor": 2
}

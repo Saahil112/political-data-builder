{
  "nbformat": 4,
  "nbformat_minor": 0,
  "metadata": {
    "kernelspec": {
      "display_name": "Python 3",
      "language": "python",
      "name": "python3"
    },
    "language_info": {
      "codemirror_mode": {
        "name": "ipython",
        "version": 3
      },
      "file_extension": ".py",
      "mimetype": "text/x-python",
      "name": "python",
      "nbconvert_exporter": "python",
      "pygments_lexer": "ipython3",
      "version": "3.6.3"
    },
    "colab": {
      "name": "L2_Political_Data.ipynb",
      "provenance": [],
      "collapsed_sections": [],
      "include_colab_link": true
    }
  },
  "cells": [
    {
      "cell_type": "markdown",
      "metadata": {
        "id": "view-in-github",
        "colab_type": "text"
      },
      "source": [
        "<a href=\"https://colab.research.google.com/github/afnanhaq/political-data-builder/blob/main/L2_Political_Data.ipynb\" target=\"_parent\"><img src=\"https://colab.research.google.com/assets/colab-badge.svg\" alt=\"Open In Colab\"/></a>"
      ]
    },
    {
      "cell_type": "markdown",
      "metadata": {
        "id": "abAu42E-3C1F"
      },
      "source": [
        "<img align=\"right\" width=\"300\" src=\"https://data-services.hosting.nyu.edu/assets/libraries_short_color.png\" alt=\"NYU Libraries Logo\">\n",
        "\n",
        "# Guidance for working with L2 political data voter files\n",
        "\n",
        "**Overview:** The L2 Political files come in two parts for each state: Demographic indicators and Voter History. Both are .tab files (tab delimited) and will need to be extracted. It is likely that you'll need to use a command line tool to decompress each archive. \n",
        "\n",
        "For larger states, you will want to redact parts of these files by only loading the minimum number of variables that you need into memory, merge them together, then sample them in order to perform analysis.\n",
        "\n",
        "This notebook is designed to provide some guidance on working with the data and creating extracts in a memory-efficient manner. It uses Python Libraries that are included with the Anacondas distribution, with the exception of [Pyjanitor](https://pyjanitor.readthedocs.io/index.html). In order to install it, run\n",
        "\n",
        "`conda install pyjanitor -c conda-forge`\n",
        "\n",
        "The conda distribution here seems to work the best (as opposed to pip). See the documentation for each of these libraries (especially Pandas) for more information. You will need to restart your Kernel and notebook before proceeding if you haven't already installed Pyjanitor. \n",
        "\n",
        "Users are expected to have agreed to the Terms of Use and should create redacted versions of the data that strip out identifying information and load only variables that are important for analysis. For the latest documentation, visit the [L2 Political LibGuide](https://guides.nyu.edu/l2political)"
      ]
    },
    {
      "cell_type": "markdown",
      "metadata": {
        "id": "SW9OIDdz3C1H"
      },
      "source": [
        "## I. Loading Python modules and L2 Data\n",
        "\n",
        "Begin by importing some basic libraries to work with the data "
      ]
    },
    {
      "cell_type": "code",
      "metadata": {
        "collapsed": true,
        "id": "Py2Tc0A23C1I"
      },
      "source": [
        "import pandas as pd\n",
        "#import janitor\n",
        "from zipfile import ZipFile "
      ],
      "execution_count": null,
      "outputs": []
    },
    {
      "cell_type": "markdown",
      "metadata": {
        "id": "QrdJ7sFa3C1I"
      },
      "source": [
        "**Loading .tab files**\n",
        "\n",
        "First, we read in the .tab file of demographic variables, declare the tab as the separator, and set the encoding\n",
        "\n",
        "There are 646 columns in the demographic file, and it's better to set the datetype as string (labeled \"object\" in Pandas) for each of them and only load certian columns to cut down on memory usage.\n",
        "\n",
        "Declare the columns you want; see the codebook for the full list and don't take PID columns.\n"
      ]
    },
    {
      "cell_type": "code",
      "metadata": {
        "colab": {
          "base_uri": "https://localhost:8080/",
          "height": 346
        },
        "id": "5krNyelu8BDf",
        "outputId": "063e03b2-8cc6-471a-8714-d0215fdcf1ba"
      },
      "source": [
        "# importing required modules \r\n",
        "  \r\n",
        "# specifying the zip file name \r\n",
        "file_name = \"\\\\storage.rcs.nyu.edu\\L2_Political\\03-01-2020-delivery\\files-by-state\\VM2--AK--2020-03-18.zip\"\r\n",
        "  \r\n",
        "# opening the zip file in READ mode \r\n",
        "with ZipFile(file_name, 'r') as zip: \r\n",
        "    # printing all the contents of the zip file \r\n",
        "    zip.printdir() \r\n",
        "  \r\n",
        "    # extracting all the files \r\n",
        "    #zip.extractall() "
      ],
      "execution_count": null,
      "outputs": [
        {
          "output_type": "error",
          "ename": "FileNotFoundError",
          "evalue": "ignored",
          "traceback": [
            "\u001b[0;31m---------------------------------------------------------------------------\u001b[0m",
            "\u001b[0;31mFileNotFoundError\u001b[0m                         Traceback (most recent call last)",
            "\u001b[0;32m<ipython-input-5-0547be18725d>\u001b[0m in \u001b[0;36m<module>\u001b[0;34m()\u001b[0m\n\u001b[1;32m      5\u001b[0m \u001b[0;34m\u001b[0m\u001b[0m\n\u001b[1;32m      6\u001b[0m \u001b[0;31m# opening the zip file in READ mode\u001b[0m\u001b[0;34m\u001b[0m\u001b[0;34m\u001b[0m\u001b[0;34m\u001b[0m\u001b[0m\n\u001b[0;32m----> 7\u001b[0;31m \u001b[0;32mwith\u001b[0m \u001b[0mZipFile\u001b[0m\u001b[0;34m(\u001b[0m\u001b[0mfile_name\u001b[0m\u001b[0;34m,\u001b[0m \u001b[0;34m'r'\u001b[0m\u001b[0;34m)\u001b[0m \u001b[0;32mas\u001b[0m \u001b[0mzip\u001b[0m\u001b[0;34m:\u001b[0m\u001b[0;34m\u001b[0m\u001b[0;34m\u001b[0m\u001b[0m\n\u001b[0m\u001b[1;32m      8\u001b[0m     \u001b[0;31m# printing all the contents of the zip file\u001b[0m\u001b[0;34m\u001b[0m\u001b[0;34m\u001b[0m\u001b[0;34m\u001b[0m\u001b[0m\n\u001b[1;32m      9\u001b[0m     \u001b[0mzip\u001b[0m\u001b[0;34m.\u001b[0m\u001b[0mprintdir\u001b[0m\u001b[0;34m(\u001b[0m\u001b[0;34m)\u001b[0m\u001b[0;34m\u001b[0m\u001b[0;34m\u001b[0m\u001b[0m\n",
            "\u001b[0;32m/usr/lib/python3.6/zipfile.py\u001b[0m in \u001b[0;36m__init__\u001b[0;34m(self, file, mode, compression, allowZip64)\u001b[0m\n\u001b[1;32m   1111\u001b[0m             \u001b[0;32mwhile\u001b[0m \u001b[0;32mTrue\u001b[0m\u001b[0;34m:\u001b[0m\u001b[0;34m\u001b[0m\u001b[0;34m\u001b[0m\u001b[0m\n\u001b[1;32m   1112\u001b[0m                 \u001b[0;32mtry\u001b[0m\u001b[0;34m:\u001b[0m\u001b[0;34m\u001b[0m\u001b[0;34m\u001b[0m\u001b[0m\n\u001b[0;32m-> 1113\u001b[0;31m                     \u001b[0mself\u001b[0m\u001b[0;34m.\u001b[0m\u001b[0mfp\u001b[0m \u001b[0;34m=\u001b[0m \u001b[0mio\u001b[0m\u001b[0;34m.\u001b[0m\u001b[0mopen\u001b[0m\u001b[0;34m(\u001b[0m\u001b[0mfile\u001b[0m\u001b[0;34m,\u001b[0m \u001b[0mfilemode\u001b[0m\u001b[0;34m)\u001b[0m\u001b[0;34m\u001b[0m\u001b[0;34m\u001b[0m\u001b[0m\n\u001b[0m\u001b[1;32m   1114\u001b[0m                 \u001b[0;32mexcept\u001b[0m \u001b[0mOSError\u001b[0m\u001b[0;34m:\u001b[0m\u001b[0;34m\u001b[0m\u001b[0;34m\u001b[0m\u001b[0m\n\u001b[1;32m   1115\u001b[0m                     \u001b[0;32mif\u001b[0m \u001b[0mfilemode\u001b[0m \u001b[0;32min\u001b[0m \u001b[0mmodeDict\u001b[0m\u001b[0;34m:\u001b[0m\u001b[0;34m\u001b[0m\u001b[0;34m\u001b[0m\u001b[0m\n",
            "\u001b[0;31mFileNotFoundError\u001b[0m: [Errno 2] No such file or directory: '\\\\storage.rcs.nyu.edu\\\\L2_Political\\x03-01-2020-delivery\\x0ciles-by-state\\\\VM2--AK--2020-03-18.zip'"
          ]
        }
      ]
    },
    {
      "cell_type": "code",
      "metadata": {
        "scrolled": true,
        "id": "z6oV6TnK3C1J",
        "colab": {
          "base_uri": "https://localhost:8080/",
          "height": 380
        },
        "outputId": "13855820-46e5-4ed8-9890-2680a0041406"
      },
      "source": [
        "selected_variables = ['LALVOTERID',\n",
        "                      'Residence_Addresses_Latitude',\n",
        "                      'Residence_Addresses_Longitude',\n",
        "                      'Voters_Gender',\n",
        "                      'Voters_FIPS']\n",
        "\n",
        "## Change the file path below accordingly to point toward the relevant file. Note that this data loading step below\n",
        "## will take the longest out of any step for your computer to process\n",
        "\n",
        "state_demographic = pd.read_csv('VM2--VA--2020-03-01-DEMOGRAPHIC.tab', \n",
        "                                sep='\\t', dtype=str, encoding='unicode_escape',\n",
        "                                usecols=selected_variables)\n",
        "\n",
        "## Preview of the first 5 rows of the data subset. \n",
        "\n",
        "state_demographic.head(5)"
      ],
      "execution_count": null,
      "outputs": [
        {
          "output_type": "error",
          "ename": "FileNotFoundError",
          "evalue": "ignored",
          "traceback": [
            "\u001b[0;31m---------------------------------------------------------------------------\u001b[0m",
            "\u001b[0;31mFileNotFoundError\u001b[0m                         Traceback (most recent call last)",
            "\u001b[0;32m<ipython-input-2-7edb0b48ace5>\u001b[0m in \u001b[0;36m<module>\u001b[0;34m()\u001b[0m\n\u001b[1;32m     10\u001b[0m state_demographic = pd.read_csv('VM2--VA--2020-03-01-DEMOGRAPHIC.tab', \n\u001b[1;32m     11\u001b[0m                                 \u001b[0msep\u001b[0m\u001b[0;34m=\u001b[0m\u001b[0;34m'\\t'\u001b[0m\u001b[0;34m,\u001b[0m \u001b[0mdtype\u001b[0m\u001b[0;34m=\u001b[0m\u001b[0mstr\u001b[0m\u001b[0;34m,\u001b[0m \u001b[0mencoding\u001b[0m\u001b[0;34m=\u001b[0m\u001b[0;34m'unicode_escape'\u001b[0m\u001b[0;34m,\u001b[0m\u001b[0;34m\u001b[0m\u001b[0;34m\u001b[0m\u001b[0m\n\u001b[0;32m---> 12\u001b[0;31m                                 usecols=selected_variables)\n\u001b[0m\u001b[1;32m     13\u001b[0m \u001b[0;34m\u001b[0m\u001b[0m\n\u001b[1;32m     14\u001b[0m \u001b[0;31m## Preview of the first 5 rows of the data subset.\u001b[0m\u001b[0;34m\u001b[0m\u001b[0;34m\u001b[0m\u001b[0;34m\u001b[0m\u001b[0m\n",
            "\u001b[0;32m/usr/local/lib/python3.6/dist-packages/pandas/io/parsers.py\u001b[0m in \u001b[0;36mread_csv\u001b[0;34m(filepath_or_buffer, sep, delimiter, header, names, index_col, usecols, squeeze, prefix, mangle_dupe_cols, dtype, engine, converters, true_values, false_values, skipinitialspace, skiprows, skipfooter, nrows, na_values, keep_default_na, na_filter, verbose, skip_blank_lines, parse_dates, infer_datetime_format, keep_date_col, date_parser, dayfirst, cache_dates, iterator, chunksize, compression, thousands, decimal, lineterminator, quotechar, quoting, doublequote, escapechar, comment, encoding, dialect, error_bad_lines, warn_bad_lines, delim_whitespace, low_memory, memory_map, float_precision)\u001b[0m\n\u001b[1;32m    686\u001b[0m     )\n\u001b[1;32m    687\u001b[0m \u001b[0;34m\u001b[0m\u001b[0m\n\u001b[0;32m--> 688\u001b[0;31m     \u001b[0;32mreturn\u001b[0m \u001b[0m_read\u001b[0m\u001b[0;34m(\u001b[0m\u001b[0mfilepath_or_buffer\u001b[0m\u001b[0;34m,\u001b[0m \u001b[0mkwds\u001b[0m\u001b[0;34m)\u001b[0m\u001b[0;34m\u001b[0m\u001b[0;34m\u001b[0m\u001b[0m\n\u001b[0m\u001b[1;32m    689\u001b[0m \u001b[0;34m\u001b[0m\u001b[0m\n\u001b[1;32m    690\u001b[0m \u001b[0;34m\u001b[0m\u001b[0m\n",
            "\u001b[0;32m/usr/local/lib/python3.6/dist-packages/pandas/io/parsers.py\u001b[0m in \u001b[0;36m_read\u001b[0;34m(filepath_or_buffer, kwds)\u001b[0m\n\u001b[1;32m    452\u001b[0m \u001b[0;34m\u001b[0m\u001b[0m\n\u001b[1;32m    453\u001b[0m     \u001b[0;31m# Create the parser.\u001b[0m\u001b[0;34m\u001b[0m\u001b[0;34m\u001b[0m\u001b[0;34m\u001b[0m\u001b[0m\n\u001b[0;32m--> 454\u001b[0;31m     \u001b[0mparser\u001b[0m \u001b[0;34m=\u001b[0m \u001b[0mTextFileReader\u001b[0m\u001b[0;34m(\u001b[0m\u001b[0mfp_or_buf\u001b[0m\u001b[0;34m,\u001b[0m \u001b[0;34m**\u001b[0m\u001b[0mkwds\u001b[0m\u001b[0;34m)\u001b[0m\u001b[0;34m\u001b[0m\u001b[0;34m\u001b[0m\u001b[0m\n\u001b[0m\u001b[1;32m    455\u001b[0m \u001b[0;34m\u001b[0m\u001b[0m\n\u001b[1;32m    456\u001b[0m     \u001b[0;32mif\u001b[0m \u001b[0mchunksize\u001b[0m \u001b[0;32mor\u001b[0m \u001b[0miterator\u001b[0m\u001b[0;34m:\u001b[0m\u001b[0;34m\u001b[0m\u001b[0;34m\u001b[0m\u001b[0m\n",
            "\u001b[0;32m/usr/local/lib/python3.6/dist-packages/pandas/io/parsers.py\u001b[0m in \u001b[0;36m__init__\u001b[0;34m(self, f, engine, **kwds)\u001b[0m\n\u001b[1;32m    946\u001b[0m             \u001b[0mself\u001b[0m\u001b[0;34m.\u001b[0m\u001b[0moptions\u001b[0m\u001b[0;34m[\u001b[0m\u001b[0;34m\"has_index_names\"\u001b[0m\u001b[0;34m]\u001b[0m \u001b[0;34m=\u001b[0m \u001b[0mkwds\u001b[0m\u001b[0;34m[\u001b[0m\u001b[0;34m\"has_index_names\"\u001b[0m\u001b[0;34m]\u001b[0m\u001b[0;34m\u001b[0m\u001b[0;34m\u001b[0m\u001b[0m\n\u001b[1;32m    947\u001b[0m \u001b[0;34m\u001b[0m\u001b[0m\n\u001b[0;32m--> 948\u001b[0;31m         \u001b[0mself\u001b[0m\u001b[0;34m.\u001b[0m\u001b[0m_make_engine\u001b[0m\u001b[0;34m(\u001b[0m\u001b[0mself\u001b[0m\u001b[0;34m.\u001b[0m\u001b[0mengine\u001b[0m\u001b[0;34m)\u001b[0m\u001b[0;34m\u001b[0m\u001b[0;34m\u001b[0m\u001b[0m\n\u001b[0m\u001b[1;32m    949\u001b[0m \u001b[0;34m\u001b[0m\u001b[0m\n\u001b[1;32m    950\u001b[0m     \u001b[0;32mdef\u001b[0m \u001b[0mclose\u001b[0m\u001b[0;34m(\u001b[0m\u001b[0mself\u001b[0m\u001b[0;34m)\u001b[0m\u001b[0;34m:\u001b[0m\u001b[0;34m\u001b[0m\u001b[0;34m\u001b[0m\u001b[0m\n",
            "\u001b[0;32m/usr/local/lib/python3.6/dist-packages/pandas/io/parsers.py\u001b[0m in \u001b[0;36m_make_engine\u001b[0;34m(self, engine)\u001b[0m\n\u001b[1;32m   1178\u001b[0m     \u001b[0;32mdef\u001b[0m \u001b[0m_make_engine\u001b[0m\u001b[0;34m(\u001b[0m\u001b[0mself\u001b[0m\u001b[0;34m,\u001b[0m \u001b[0mengine\u001b[0m\u001b[0;34m=\u001b[0m\u001b[0;34m\"c\"\u001b[0m\u001b[0;34m)\u001b[0m\u001b[0;34m:\u001b[0m\u001b[0;34m\u001b[0m\u001b[0;34m\u001b[0m\u001b[0m\n\u001b[1;32m   1179\u001b[0m         \u001b[0;32mif\u001b[0m \u001b[0mengine\u001b[0m \u001b[0;34m==\u001b[0m \u001b[0;34m\"c\"\u001b[0m\u001b[0;34m:\u001b[0m\u001b[0;34m\u001b[0m\u001b[0;34m\u001b[0m\u001b[0m\n\u001b[0;32m-> 1180\u001b[0;31m             \u001b[0mself\u001b[0m\u001b[0;34m.\u001b[0m\u001b[0m_engine\u001b[0m \u001b[0;34m=\u001b[0m \u001b[0mCParserWrapper\u001b[0m\u001b[0;34m(\u001b[0m\u001b[0mself\u001b[0m\u001b[0;34m.\u001b[0m\u001b[0mf\u001b[0m\u001b[0;34m,\u001b[0m \u001b[0;34m**\u001b[0m\u001b[0mself\u001b[0m\u001b[0;34m.\u001b[0m\u001b[0moptions\u001b[0m\u001b[0;34m)\u001b[0m\u001b[0;34m\u001b[0m\u001b[0;34m\u001b[0m\u001b[0m\n\u001b[0m\u001b[1;32m   1181\u001b[0m         \u001b[0;32melse\u001b[0m\u001b[0;34m:\u001b[0m\u001b[0;34m\u001b[0m\u001b[0;34m\u001b[0m\u001b[0m\n\u001b[1;32m   1182\u001b[0m             \u001b[0;32mif\u001b[0m \u001b[0mengine\u001b[0m \u001b[0;34m==\u001b[0m \u001b[0;34m\"python\"\u001b[0m\u001b[0;34m:\u001b[0m\u001b[0;34m\u001b[0m\u001b[0;34m\u001b[0m\u001b[0m\n",
            "\u001b[0;32m/usr/local/lib/python3.6/dist-packages/pandas/io/parsers.py\u001b[0m in \u001b[0;36m__init__\u001b[0;34m(self, src, **kwds)\u001b[0m\n\u001b[1;32m   1991\u001b[0m         \u001b[0;32mif\u001b[0m \u001b[0mkwds\u001b[0m\u001b[0;34m.\u001b[0m\u001b[0mget\u001b[0m\u001b[0;34m(\u001b[0m\u001b[0;34m\"compression\"\u001b[0m\u001b[0;34m)\u001b[0m \u001b[0;32mis\u001b[0m \u001b[0;32mNone\u001b[0m \u001b[0;32mand\u001b[0m \u001b[0mencoding\u001b[0m\u001b[0;34m:\u001b[0m\u001b[0;34m\u001b[0m\u001b[0;34m\u001b[0m\u001b[0m\n\u001b[1;32m   1992\u001b[0m             \u001b[0;32mif\u001b[0m \u001b[0misinstance\u001b[0m\u001b[0;34m(\u001b[0m\u001b[0msrc\u001b[0m\u001b[0;34m,\u001b[0m \u001b[0mstr\u001b[0m\u001b[0;34m)\u001b[0m\u001b[0;34m:\u001b[0m\u001b[0;34m\u001b[0m\u001b[0;34m\u001b[0m\u001b[0m\n\u001b[0;32m-> 1993\u001b[0;31m                 \u001b[0msrc\u001b[0m \u001b[0;34m=\u001b[0m \u001b[0mopen\u001b[0m\u001b[0;34m(\u001b[0m\u001b[0msrc\u001b[0m\u001b[0;34m,\u001b[0m \u001b[0;34m\"rb\"\u001b[0m\u001b[0;34m)\u001b[0m\u001b[0;34m\u001b[0m\u001b[0;34m\u001b[0m\u001b[0m\n\u001b[0m\u001b[1;32m   1994\u001b[0m                 \u001b[0mself\u001b[0m\u001b[0;34m.\u001b[0m\u001b[0mhandles\u001b[0m\u001b[0;34m.\u001b[0m\u001b[0mappend\u001b[0m\u001b[0;34m(\u001b[0m\u001b[0msrc\u001b[0m\u001b[0;34m)\u001b[0m\u001b[0;34m\u001b[0m\u001b[0;34m\u001b[0m\u001b[0m\n\u001b[1;32m   1995\u001b[0m \u001b[0;34m\u001b[0m\u001b[0m\n",
            "\u001b[0;31mFileNotFoundError\u001b[0m: [Errno 2] No such file or directory: 'VM2--VA--2020-03-01-DEMOGRAPHIC.tab'"
          ]
        }
      ]
    },
    {
      "cell_type": "markdown",
      "metadata": {
        "id": "x_2S1qHo3C1K"
      },
      "source": [
        "It's also not a bad idea to test the length of the entire file and verify it with the number of records on the documentation"
      ]
    },
    {
      "cell_type": "code",
      "metadata": {
        "scrolled": true,
        "id": "iEfqLokF3C1K",
        "outputId": "ead387c5-8cfd-41bb-9da8-d7f2a932858b"
      },
      "source": [
        "len(state_demographic)"
      ],
      "execution_count": null,
      "outputs": [
        {
          "output_type": "execute_result",
          "data": {
            "text/plain": [
              "5264320"
            ]
          },
          "metadata": {
            "tags": []
          },
          "execution_count": 3
        }
      ]
    },
    {
      "cell_type": "markdown",
      "metadata": {
        "id": "eFEU04zM3C1K"
      },
      "source": [
        "You can also run .info to get a breakdown, including how much memory the data frame is eating up.\n",
        "\n",
        "This will give you context for how much your computer can handle."
      ]
    },
    {
      "cell_type": "code",
      "metadata": {
        "id": "Gv7Ja5uq3C1L",
        "outputId": "59740133-4de5-458d-eebd-92618d72ba59"
      },
      "source": [
        "state_demographic.info()"
      ],
      "execution_count": null,
      "outputs": [
        {
          "output_type": "stream",
          "text": [
            "<class 'pandas.core.frame.DataFrame'>\n",
            "RangeIndex: 5264320 entries, 0 to 5264319\n",
            "Data columns (total 5 columns):\n",
            " #   Column                         Dtype \n",
            "---  ------                         ----- \n",
            " 0   LALVOTERID                     object\n",
            " 1   Residence_Addresses_Latitude   object\n",
            " 2   Residence_Addresses_Longitude  object\n",
            " 3   Voters_Gender                  object\n",
            " 4   Voters_FIPS                    object\n",
            "dtypes: object(5)\n",
            "memory usage: 200.8+ MB\n"
          ],
          "name": "stdout"
        }
      ]
    },
    {
      "cell_type": "markdown",
      "metadata": {
        "id": "4w-dxY0m3C1L"
      },
      "source": [
        "Next, we will read into memory the voter history file that corresponds to the state.\n",
        "\n",
        "This time, we make sure to include the *LALVOTERID* column, and we will add whether or not they voted in 2016."
      ]
    },
    {
      "cell_type": "code",
      "metadata": {
        "id": "TkOaFvjI3C1M",
        "outputId": "5c3fd258-d206-4b50-fe37-64872c8abd4d"
      },
      "source": [
        "needed_variables = ['LALVOTERID', 'General_2016_11_08']\n",
        "\n",
        "state_voterhistory = pd.read_csv('VM2--VA--2020-03-01-VOTEHISTORY.tab',\n",
        "                                 sep='\\t', dtype=str, encoding='unicode_escape',\n",
        "                                 usecols=needed_variables)\n",
        "                                \n",
        "state_voterhistory.head(5)"
      ],
      "execution_count": null,
      "outputs": [
        {
          "output_type": "execute_result",
          "data": {
            "text/html": [
              "<div>\n",
              "<style scoped>\n",
              "    .dataframe tbody tr th:only-of-type {\n",
              "        vertical-align: middle;\n",
              "    }\n",
              "\n",
              "    .dataframe tbody tr th {\n",
              "        vertical-align: top;\n",
              "    }\n",
              "\n",
              "    .dataframe thead th {\n",
              "        text-align: right;\n",
              "    }\n",
              "</style>\n",
              "<table border=\"1\" class=\"dataframe\">\n",
              "  <thead>\n",
              "    <tr style=\"text-align: right;\">\n",
              "      <th></th>\n",
              "      <th>LALVOTERID</th>\n",
              "      <th>General_2016_11_08</th>\n",
              "    </tr>\n",
              "  </thead>\n",
              "  <tbody>\n",
              "    <tr>\n",
              "      <th>0</th>\n",
              "      <td>LALVA167958824</td>\n",
              "      <td>Y</td>\n",
              "    </tr>\n",
              "    <tr>\n",
              "      <th>1</th>\n",
              "      <td>LALVA516951467</td>\n",
              "      <td>NaN</td>\n",
              "    </tr>\n",
              "    <tr>\n",
              "      <th>2</th>\n",
              "      <td>LALVA462558999</td>\n",
              "      <td>Y</td>\n",
              "    </tr>\n",
              "    <tr>\n",
              "      <th>3</th>\n",
              "      <td>LALVA462552402</td>\n",
              "      <td>Y</td>\n",
              "    </tr>\n",
              "    <tr>\n",
              "      <th>4</th>\n",
              "      <td>LALVA4161517</td>\n",
              "      <td>Y</td>\n",
              "    </tr>\n",
              "  </tbody>\n",
              "</table>\n",
              "</div>"
            ],
            "text/plain": [
              "       LALVOTERID General_2016_11_08\n",
              "0  LALVA167958824                  Y\n",
              "1  LALVA516951467                NaN\n",
              "2  LALVA462558999                  Y\n",
              "3  LALVA462552402                  Y\n",
              "4    LALVA4161517                  Y"
            ]
          },
          "metadata": {
            "tags": []
          },
          "execution_count": 5
        }
      ]
    },
    {
      "cell_type": "code",
      "metadata": {
        "id": "THzMI17w3C1M",
        "outputId": "f7f0e739-9ea0-448b-a605-5db3a92c5908"
      },
      "source": [
        "## Again, I will want to run an .info command to test the size and memory\n",
        "\n",
        "state_voterhistory.info()"
      ],
      "execution_count": null,
      "outputs": [
        {
          "output_type": "stream",
          "text": [
            "<class 'pandas.core.frame.DataFrame'>\n",
            "RangeIndex: 5264320 entries, 0 to 5264319\n",
            "Data columns (total 2 columns):\n",
            " #   Column              Dtype \n",
            "---  ------              ----- \n",
            " 0   LALVOTERID          object\n",
            " 1   General_2016_11_08  object\n",
            "dtypes: object(2)\n",
            "memory usage: 80.3+ MB\n"
          ],
          "name": "stdout"
        }
      ]
    },
    {
      "cell_type": "markdown",
      "metadata": {
        "id": "hTh5MV2B3C1N"
      },
      "source": [
        "## II. Join of Demographic and Voter History Tables\n",
        "\n",
        "Now that I have established a two reduced tables with a connection, I can join them (using the merge method in Pandas) based on the *LALVOTERID* common key\n"
      ]
    },
    {
      "cell_type": "code",
      "metadata": {
        "id": "q1-lArtr3C1N",
        "outputId": "c4c0e86a-4bf7-40c8-e0cc-01b55011a711"
      },
      "source": [
        "merged_file = pd.merge(state_voterhistory, state_demographic,\n",
        "                       how='left', left_on='LALVOTERID', right_on='LALVOTERID')\n",
        "\n",
        "merged_file.head(5)"
      ],
      "execution_count": null,
      "outputs": [
        {
          "output_type": "execute_result",
          "data": {
            "text/html": [
              "<div>\n",
              "<style scoped>\n",
              "    .dataframe tbody tr th:only-of-type {\n",
              "        vertical-align: middle;\n",
              "    }\n",
              "\n",
              "    .dataframe tbody tr th {\n",
              "        vertical-align: top;\n",
              "    }\n",
              "\n",
              "    .dataframe thead th {\n",
              "        text-align: right;\n",
              "    }\n",
              "</style>\n",
              "<table border=\"1\" class=\"dataframe\">\n",
              "  <thead>\n",
              "    <tr style=\"text-align: right;\">\n",
              "      <th></th>\n",
              "      <th>LALVOTERID</th>\n",
              "      <th>General_2016_11_08</th>\n",
              "      <th>Residence_Addresses_Latitude</th>\n",
              "      <th>Residence_Addresses_Longitude</th>\n",
              "      <th>Voters_Gender</th>\n",
              "      <th>Voters_FIPS</th>\n",
              "    </tr>\n",
              "  </thead>\n",
              "  <tbody>\n",
              "    <tr>\n",
              "      <th>0</th>\n",
              "      <td>LALVA167958824</td>\n",
              "      <td>Y</td>\n",
              "      <td>37.901764</td>\n",
              "      <td>-75.505997</td>\n",
              "      <td>F</td>\n",
              "      <td>001</td>\n",
              "    </tr>\n",
              "    <tr>\n",
              "      <th>1</th>\n",
              "      <td>LALVA516951467</td>\n",
              "      <td>NaN</td>\n",
              "      <td>37.901764</td>\n",
              "      <td>-75.505997</td>\n",
              "      <td>M</td>\n",
              "      <td>001</td>\n",
              "    </tr>\n",
              "    <tr>\n",
              "      <th>2</th>\n",
              "      <td>LALVA462558999</td>\n",
              "      <td>Y</td>\n",
              "      <td>37.901343</td>\n",
              "      <td>-75.566436</td>\n",
              "      <td>F</td>\n",
              "      <td>001</td>\n",
              "    </tr>\n",
              "    <tr>\n",
              "      <th>3</th>\n",
              "      <td>LALVA462552402</td>\n",
              "      <td>Y</td>\n",
              "      <td>37.901343</td>\n",
              "      <td>-75.566436</td>\n",
              "      <td>M</td>\n",
              "      <td>001</td>\n",
              "    </tr>\n",
              "    <tr>\n",
              "      <th>4</th>\n",
              "      <td>LALVA4161517</td>\n",
              "      <td>Y</td>\n",
              "      <td>37.807510</td>\n",
              "      <td>-75.607740</td>\n",
              "      <td>M</td>\n",
              "      <td>001</td>\n",
              "    </tr>\n",
              "  </tbody>\n",
              "</table>\n",
              "</div>"
            ],
            "text/plain": [
              "       LALVOTERID General_2016_11_08 Residence_Addresses_Latitude  \\\n",
              "0  LALVA167958824                  Y                    37.901764   \n",
              "1  LALVA516951467                NaN                    37.901764   \n",
              "2  LALVA462558999                  Y                    37.901343   \n",
              "3  LALVA462552402                  Y                    37.901343   \n",
              "4    LALVA4161517                  Y                    37.807510   \n",
              "\n",
              "  Residence_Addresses_Longitude Voters_Gender Voters_FIPS  \n",
              "0                    -75.505997             F         001  \n",
              "1                    -75.505997             M         001  \n",
              "2                    -75.566436             F         001  \n",
              "3                    -75.566436             M         001  \n",
              "4                    -75.607740             M         001  "
            ]
          },
          "metadata": {
            "tags": []
          },
          "execution_count": 7
        }
      ]
    },
    {
      "cell_type": "markdown",
      "metadata": {
        "id": "jYxSxVfE3C1N"
      },
      "source": [
        "## III. Sampling the Records\n",
        "\n",
        "From here, you can sample the records. The frac argument is in percentage, so here, it's a one percent sample note that the sample function also guesses the dtype (which is proccess intensive) so it's better to do the sample after the final merge"
      ]
    },
    {
      "cell_type": "code",
      "metadata": {
        "scrolled": true,
        "id": "pB4N04gf3C1O",
        "outputId": "557c2e61-8834-4793-b5e0-4a0282efb0a6"
      },
      "source": [
        "state_sample = merged_file.sample(frac=0.01)\n",
        "\n",
        "state_sample.head(5)"
      ],
      "execution_count": null,
      "outputs": [
        {
          "output_type": "execute_result",
          "data": {
            "text/html": [
              "<div>\n",
              "<style scoped>\n",
              "    .dataframe tbody tr th:only-of-type {\n",
              "        vertical-align: middle;\n",
              "    }\n",
              "\n",
              "    .dataframe tbody tr th {\n",
              "        vertical-align: top;\n",
              "    }\n",
              "\n",
              "    .dataframe thead th {\n",
              "        text-align: right;\n",
              "    }\n",
              "</style>\n",
              "<table border=\"1\" class=\"dataframe\">\n",
              "  <thead>\n",
              "    <tr style=\"text-align: right;\">\n",
              "      <th></th>\n",
              "      <th>LALVOTERID</th>\n",
              "      <th>General_2016_11_08</th>\n",
              "      <th>Residence_Addresses_Latitude</th>\n",
              "      <th>Residence_Addresses_Longitude</th>\n",
              "      <th>Voters_Gender</th>\n",
              "      <th>Voters_FIPS</th>\n",
              "    </tr>\n",
              "  </thead>\n",
              "  <tbody>\n",
              "    <tr>\n",
              "      <th>4506497</th>\n",
              "      <td>LALVA4381855</td>\n",
              "      <td>Y</td>\n",
              "      <td>36.861190</td>\n",
              "      <td>-76.266420</td>\n",
              "      <td>F</td>\n",
              "      <td>710</td>\n",
              "    </tr>\n",
              "    <tr>\n",
              "      <th>3220820</th>\n",
              "      <td>LALVA1954212</td>\n",
              "      <td>Y</td>\n",
              "      <td>37.228351</td>\n",
              "      <td>-79.976485</td>\n",
              "      <td>M</td>\n",
              "      <td>161</td>\n",
              "    </tr>\n",
              "    <tr>\n",
              "      <th>745576</th>\n",
              "      <td>LALVA738960</td>\n",
              "      <td>Y</td>\n",
              "      <td>37.509310</td>\n",
              "      <td>-77.649680</td>\n",
              "      <td>M</td>\n",
              "      <td>041</td>\n",
              "    </tr>\n",
              "    <tr>\n",
              "      <th>2152787</th>\n",
              "      <td>LALVA471745169</td>\n",
              "      <td>Y</td>\n",
              "      <td>36.985720</td>\n",
              "      <td>-76.612630</td>\n",
              "      <td>M</td>\n",
              "      <td>093</td>\n",
              "    </tr>\n",
              "    <tr>\n",
              "      <th>3196996</th>\n",
              "      <td>LALVA398865370</td>\n",
              "      <td>NaN</td>\n",
              "      <td>37.241560</td>\n",
              "      <td>-79.995220</td>\n",
              "      <td>M</td>\n",
              "      <td>161</td>\n",
              "    </tr>\n",
              "  </tbody>\n",
              "</table>\n",
              "</div>"
            ],
            "text/plain": [
              "             LALVOTERID General_2016_11_08 Residence_Addresses_Latitude  \\\n",
              "4506497    LALVA4381855                  Y                    36.861190   \n",
              "3220820    LALVA1954212                  Y                    37.228351   \n",
              "745576      LALVA738960                  Y                    37.509310   \n",
              "2152787  LALVA471745169                  Y                    36.985720   \n",
              "3196996  LALVA398865370                NaN                    37.241560   \n",
              "\n",
              "        Residence_Addresses_Longitude Voters_Gender Voters_FIPS  \n",
              "4506497                    -76.266420             F         710  \n",
              "3220820                    -79.976485             M         161  \n",
              "745576                     -77.649680             M         041  \n",
              "2152787                    -76.612630             M         093  \n",
              "3196996                    -79.995220             M         161  "
            ]
          },
          "metadata": {
            "tags": []
          },
          "execution_count": 8
        }
      ]
    },
    {
      "cell_type": "markdown",
      "metadata": {
        "id": "n5IG3iW53C1O"
      },
      "source": [
        "Again, print out the info to see that its a valid sample size (actually one percent) and that it is using much less memory\n",
        "\n",
        "You'll know that the sampling worked if the index numbers are nonsequential and random also, you can test the length and info of your new sample"
      ]
    },
    {
      "cell_type": "code",
      "metadata": {
        "id": "pKj6kNkO3C1O",
        "outputId": "1c111af5-eba6-4e64-fda9-99710a6e32bf"
      },
      "source": [
        "state_sample.info()"
      ],
      "execution_count": null,
      "outputs": [
        {
          "output_type": "stream",
          "text": [
            "<class 'pandas.core.frame.DataFrame'>\n",
            "Int64Index: 52643 entries, 4506497 to 2917779\n",
            "Data columns (total 6 columns):\n",
            " #   Column                         Non-Null Count  Dtype \n",
            "---  ------                         --------------  ----- \n",
            " 0   LALVOTERID                     52643 non-null  object\n",
            " 1   General_2016_11_08             36531 non-null  object\n",
            " 2   Residence_Addresses_Latitude   52639 non-null  object\n",
            " 3   Residence_Addresses_Longitude  52639 non-null  object\n",
            " 4   Voters_Gender                  52643 non-null  object\n",
            " 5   Voters_FIPS                    52643 non-null  object\n",
            "dtypes: object(6)\n",
            "memory usage: 2.8+ MB\n"
          ],
          "name": "stdout"
        }
      ]
    },
    {
      "cell_type": "markdown",
      "metadata": {
        "id": "wUFP_5Mo3C1P"
      },
      "source": [
        "## IV. Further Deidentifying Geocoded Locations: Jittering\n",
        "\n",
        "There are many other filtering and cleaning steps to be taken before writing out a new file\n",
        "\n",
        "For example, the coordinates can be identifying, even if you strip out all of the other PID variables, because they are geocoded to the address. You will want to jitter them if you intend to aggregate or visualize data.\n",
        "\n",
        "First, print out the data types to make sure what they are:"
      ]
    },
    {
      "cell_type": "code",
      "metadata": {
        "id": "xt8QmGzR3C1P",
        "outputId": "e191c1e7-b667-41f1-a7be-9471575f9791"
      },
      "source": [
        "state_sample.dtypes"
      ],
      "execution_count": null,
      "outputs": [
        {
          "output_type": "execute_result",
          "data": {
            "text/plain": [
              "LALVOTERID                       object\n",
              "General_2016_11_08               object\n",
              "Residence_Addresses_Latitude     object\n",
              "Residence_Addresses_Longitude    object\n",
              "Voters_Gender                    object\n",
              "Voters_FIPS                      object\n",
              "dtype: object"
            ]
          },
          "metadata": {
            "tags": []
          },
          "execution_count": 10
        }
      ]
    },
    {
      "cell_type": "code",
      "metadata": {
        "id": "ALBc5ONd3C1Q",
        "outputId": "8605264b-304f-4c77-a6c9-f84cd6537d8e"
      },
      "source": [
        "## In order to jitter the coordinates, you need to change them to a float\n",
        "\n",
        "state_sample['Residence_Addresses_Latitude'] = pd.to_numeric(state_sample['Residence_Addresses_Latitude']) \n",
        "state_sample['Residence_Addresses_Longitude'] = pd.to_numeric(state_sample['Residence_Addresses_Longitude']) \n",
        "\n",
        "state_sample.dtypes"
      ],
      "execution_count": null,
      "outputs": [
        {
          "output_type": "execute_result",
          "data": {
            "text/plain": [
              "LALVOTERID                        object\n",
              "General_2016_11_08                object\n",
              "Residence_Addresses_Latitude     float64\n",
              "Residence_Addresses_Longitude    float64\n",
              "Voters_Gender                     object\n",
              "Voters_FIPS                       object\n",
              "dtype: object"
            ]
          },
          "metadata": {
            "tags": []
          },
          "execution_count": 11
        }
      ]
    },
    {
      "cell_type": "markdown",
      "metadata": {
        "id": "wvqPyYWn3C1Q"
      },
      "source": [
        "The module pyjanitor introduces a jitter method for dataframes that can be used to displace the exact coordinates of a location.\n",
        "\n",
        "We'll start with jittering the latitude. This library inserts a Gaussian distribution (\"noise\") equal to the standard deviation of the scale. The exact amount of the scale in jitter may need to change but this is a good starting place. You may want to test the results in a mapping software like QGIS or ArcMap before proceeding too far"
      ]
    },
    {
      "cell_type": "code",
      "metadata": {
        "id": "eJ7kTSS33C1R",
        "outputId": "629e4c9b-9b73-4a8f-f960-90d81809b160"
      },
      "source": [
        "jittered_lat = state_sample.jitter(\n",
        "    column_name='Residence_Addresses_Latitude',\n",
        "    dest_column_name='lat_jitter',\n",
        "    scale=0.05,\n",
        "    clip=None,\n",
        "    random_state=None,\n",
        ")\n",
        "\n",
        "jittered_lat.head(5)"
      ],
      "execution_count": null,
      "outputs": [
        {
          "output_type": "execute_result",
          "data": {
            "text/html": [
              "<div>\n",
              "<style scoped>\n",
              "    .dataframe tbody tr th:only-of-type {\n",
              "        vertical-align: middle;\n",
              "    }\n",
              "\n",
              "    .dataframe tbody tr th {\n",
              "        vertical-align: top;\n",
              "    }\n",
              "\n",
              "    .dataframe thead th {\n",
              "        text-align: right;\n",
              "    }\n",
              "</style>\n",
              "<table border=\"1\" class=\"dataframe\">\n",
              "  <thead>\n",
              "    <tr style=\"text-align: right;\">\n",
              "      <th></th>\n",
              "      <th>LALVOTERID</th>\n",
              "      <th>General_2016_11_08</th>\n",
              "      <th>Residence_Addresses_Latitude</th>\n",
              "      <th>Residence_Addresses_Longitude</th>\n",
              "      <th>Voters_Gender</th>\n",
              "      <th>Voters_FIPS</th>\n",
              "      <th>lat_jitter</th>\n",
              "    </tr>\n",
              "  </thead>\n",
              "  <tbody>\n",
              "    <tr>\n",
              "      <th>4506497</th>\n",
              "      <td>LALVA4381855</td>\n",
              "      <td>Y</td>\n",
              "      <td>36.861190</td>\n",
              "      <td>-76.266420</td>\n",
              "      <td>F</td>\n",
              "      <td>710</td>\n",
              "      <td>36.810290</td>\n",
              "    </tr>\n",
              "    <tr>\n",
              "      <th>3220820</th>\n",
              "      <td>LALVA1954212</td>\n",
              "      <td>Y</td>\n",
              "      <td>37.228351</td>\n",
              "      <td>-79.976485</td>\n",
              "      <td>M</td>\n",
              "      <td>161</td>\n",
              "      <td>37.255338</td>\n",
              "    </tr>\n",
              "    <tr>\n",
              "      <th>745576</th>\n",
              "      <td>LALVA738960</td>\n",
              "      <td>Y</td>\n",
              "      <td>37.509310</td>\n",
              "      <td>-77.649680</td>\n",
              "      <td>M</td>\n",
              "      <td>041</td>\n",
              "      <td>37.505897</td>\n",
              "    </tr>\n",
              "    <tr>\n",
              "      <th>2152787</th>\n",
              "      <td>LALVA471745169</td>\n",
              "      <td>Y</td>\n",
              "      <td>36.985720</td>\n",
              "      <td>-76.612630</td>\n",
              "      <td>M</td>\n",
              "      <td>093</td>\n",
              "      <td>36.955577</td>\n",
              "    </tr>\n",
              "    <tr>\n",
              "      <th>3196996</th>\n",
              "      <td>LALVA398865370</td>\n",
              "      <td>NaN</td>\n",
              "      <td>37.241560</td>\n",
              "      <td>-79.995220</td>\n",
              "      <td>M</td>\n",
              "      <td>161</td>\n",
              "      <td>37.181218</td>\n",
              "    </tr>\n",
              "  </tbody>\n",
              "</table>\n",
              "</div>"
            ],
            "text/plain": [
              "             LALVOTERID General_2016_11_08  Residence_Addresses_Latitude  \\\n",
              "4506497    LALVA4381855                  Y                     36.861190   \n",
              "3220820    LALVA1954212                  Y                     37.228351   \n",
              "745576      LALVA738960                  Y                     37.509310   \n",
              "2152787  LALVA471745169                  Y                     36.985720   \n",
              "3196996  LALVA398865370                NaN                     37.241560   \n",
              "\n",
              "         Residence_Addresses_Longitude Voters_Gender Voters_FIPS  lat_jitter  \n",
              "4506497                     -76.266420             F         710   36.810290  \n",
              "3220820                     -79.976485             M         161   37.255338  \n",
              "745576                      -77.649680             M         041   37.505897  \n",
              "2152787                     -76.612630             M         093   36.955577  \n",
              "3196996                     -79.995220             M         161   37.181218  "
            ]
          },
          "metadata": {
            "tags": []
          },
          "execution_count": 12
        }
      ]
    },
    {
      "cell_type": "code",
      "metadata": {
        "scrolled": true,
        "id": "FSOPJ6KE3C1R",
        "outputId": "aeaddb25-0285-4182-89b0-b24a03ba1642"
      },
      "source": [
        "## Now we jitter the longitude\n",
        "\n",
        "jittered_long = state_sample.jitter(\n",
        "    column_name='Residence_Addresses_Longitude',\n",
        "    dest_column_name='long_jitter',\n",
        "    scale=0.05,\n",
        "    clip=None,\n",
        "    random_state=None,\n",
        ")\n",
        "\n",
        "jittered_long.head(5)"
      ],
      "execution_count": null,
      "outputs": [
        {
          "output_type": "execute_result",
          "data": {
            "text/html": [
              "<div>\n",
              "<style scoped>\n",
              "    .dataframe tbody tr th:only-of-type {\n",
              "        vertical-align: middle;\n",
              "    }\n",
              "\n",
              "    .dataframe tbody tr th {\n",
              "        vertical-align: top;\n",
              "    }\n",
              "\n",
              "    .dataframe thead th {\n",
              "        text-align: right;\n",
              "    }\n",
              "</style>\n",
              "<table border=\"1\" class=\"dataframe\">\n",
              "  <thead>\n",
              "    <tr style=\"text-align: right;\">\n",
              "      <th></th>\n",
              "      <th>LALVOTERID</th>\n",
              "      <th>General_2016_11_08</th>\n",
              "      <th>Residence_Addresses_Latitude</th>\n",
              "      <th>Residence_Addresses_Longitude</th>\n",
              "      <th>Voters_Gender</th>\n",
              "      <th>Voters_FIPS</th>\n",
              "      <th>lat_jitter</th>\n",
              "      <th>long_jitter</th>\n",
              "    </tr>\n",
              "  </thead>\n",
              "  <tbody>\n",
              "    <tr>\n",
              "      <th>4506497</th>\n",
              "      <td>LALVA4381855</td>\n",
              "      <td>Y</td>\n",
              "      <td>36.861190</td>\n",
              "      <td>-76.266420</td>\n",
              "      <td>F</td>\n",
              "      <td>710</td>\n",
              "      <td>36.810290</td>\n",
              "      <td>-76.255566</td>\n",
              "    </tr>\n",
              "    <tr>\n",
              "      <th>3220820</th>\n",
              "      <td>LALVA1954212</td>\n",
              "      <td>Y</td>\n",
              "      <td>37.228351</td>\n",
              "      <td>-79.976485</td>\n",
              "      <td>M</td>\n",
              "      <td>161</td>\n",
              "      <td>37.255338</td>\n",
              "      <td>-80.044706</td>\n",
              "    </tr>\n",
              "    <tr>\n",
              "      <th>745576</th>\n",
              "      <td>LALVA738960</td>\n",
              "      <td>Y</td>\n",
              "      <td>37.509310</td>\n",
              "      <td>-77.649680</td>\n",
              "      <td>M</td>\n",
              "      <td>041</td>\n",
              "      <td>37.505897</td>\n",
              "      <td>-77.576737</td>\n",
              "    </tr>\n",
              "    <tr>\n",
              "      <th>2152787</th>\n",
              "      <td>LALVA471745169</td>\n",
              "      <td>Y</td>\n",
              "      <td>36.985720</td>\n",
              "      <td>-76.612630</td>\n",
              "      <td>M</td>\n",
              "      <td>093</td>\n",
              "      <td>36.955577</td>\n",
              "      <td>-76.638565</td>\n",
              "    </tr>\n",
              "    <tr>\n",
              "      <th>3196996</th>\n",
              "      <td>LALVA398865370</td>\n",
              "      <td>NaN</td>\n",
              "      <td>37.241560</td>\n",
              "      <td>-79.995220</td>\n",
              "      <td>M</td>\n",
              "      <td>161</td>\n",
              "      <td>37.181218</td>\n",
              "      <td>-79.913420</td>\n",
              "    </tr>\n",
              "  </tbody>\n",
              "</table>\n",
              "</div>"
            ],
            "text/plain": [
              "             LALVOTERID General_2016_11_08  Residence_Addresses_Latitude  \\\n",
              "4506497    LALVA4381855                  Y                     36.861190   \n",
              "3220820    LALVA1954212                  Y                     37.228351   \n",
              "745576      LALVA738960                  Y                     37.509310   \n",
              "2152787  LALVA471745169                  Y                     36.985720   \n",
              "3196996  LALVA398865370                NaN                     37.241560   \n",
              "\n",
              "         Residence_Addresses_Longitude Voters_Gender Voters_FIPS  lat_jitter  \\\n",
              "4506497                     -76.266420             F         710   36.810290   \n",
              "3220820                     -79.976485             M         161   37.255338   \n",
              "745576                      -77.649680             M         041   37.505897   \n",
              "2152787                     -76.612630             M         093   36.955577   \n",
              "3196996                     -79.995220             M         161   37.181218   \n",
              "\n",
              "         long_jitter  \n",
              "4506497   -76.255566  \n",
              "3220820   -80.044706  \n",
              "745576    -77.576737  \n",
              "2152787   -76.638565  \n",
              "3196996   -79.913420  "
            ]
          },
          "metadata": {
            "tags": []
          },
          "execution_count": 13
        }
      ]
    },
    {
      "cell_type": "markdown",
      "metadata": {
        "id": "e3paI-nH3C1S"
      },
      "source": [
        "To complete the jittering process, make sure you drop off the actual Residence_Addresses columns.\n",
        "\n",
        "With this last dataframe, you should have a one percent sample that has jittered lat long coordinates, voter gender, whether or not they voted in 2016, and their unique ID:\n"
      ]
    },
    {
      "cell_type": "code",
      "metadata": {
        "id": "ZgXExSgf3C1S",
        "outputId": "057aaedc-f11e-4f2d-eb45-dbf9f90a1ce5"
      },
      "source": [
        "stripped_sample = jittered_long.drop(columns=['Residence_Addresses_Latitude', 'Residence_Addresses_Longitude'])\n",
        "\n",
        "stripped_sample.head(5)"
      ],
      "execution_count": null,
      "outputs": [
        {
          "output_type": "execute_result",
          "data": {
            "text/html": [
              "<div>\n",
              "<style scoped>\n",
              "    .dataframe tbody tr th:only-of-type {\n",
              "        vertical-align: middle;\n",
              "    }\n",
              "\n",
              "    .dataframe tbody tr th {\n",
              "        vertical-align: top;\n",
              "    }\n",
              "\n",
              "    .dataframe thead th {\n",
              "        text-align: right;\n",
              "    }\n",
              "</style>\n",
              "<table border=\"1\" class=\"dataframe\">\n",
              "  <thead>\n",
              "    <tr style=\"text-align: right;\">\n",
              "      <th></th>\n",
              "      <th>LALVOTERID</th>\n",
              "      <th>General_2016_11_08</th>\n",
              "      <th>Voters_Gender</th>\n",
              "      <th>Voters_FIPS</th>\n",
              "      <th>lat_jitter</th>\n",
              "      <th>long_jitter</th>\n",
              "    </tr>\n",
              "  </thead>\n",
              "  <tbody>\n",
              "    <tr>\n",
              "      <th>4506497</th>\n",
              "      <td>LALVA4381855</td>\n",
              "      <td>Y</td>\n",
              "      <td>F</td>\n",
              "      <td>710</td>\n",
              "      <td>36.810290</td>\n",
              "      <td>-76.255566</td>\n",
              "    </tr>\n",
              "    <tr>\n",
              "      <th>3220820</th>\n",
              "      <td>LALVA1954212</td>\n",
              "      <td>Y</td>\n",
              "      <td>M</td>\n",
              "      <td>161</td>\n",
              "      <td>37.255338</td>\n",
              "      <td>-80.044706</td>\n",
              "    </tr>\n",
              "    <tr>\n",
              "      <th>745576</th>\n",
              "      <td>LALVA738960</td>\n",
              "      <td>Y</td>\n",
              "      <td>M</td>\n",
              "      <td>041</td>\n",
              "      <td>37.505897</td>\n",
              "      <td>-77.576737</td>\n",
              "    </tr>\n",
              "    <tr>\n",
              "      <th>2152787</th>\n",
              "      <td>LALVA471745169</td>\n",
              "      <td>Y</td>\n",
              "      <td>M</td>\n",
              "      <td>093</td>\n",
              "      <td>36.955577</td>\n",
              "      <td>-76.638565</td>\n",
              "    </tr>\n",
              "    <tr>\n",
              "      <th>3196996</th>\n",
              "      <td>LALVA398865370</td>\n",
              "      <td>NaN</td>\n",
              "      <td>M</td>\n",
              "      <td>161</td>\n",
              "      <td>37.181218</td>\n",
              "      <td>-79.913420</td>\n",
              "    </tr>\n",
              "  </tbody>\n",
              "</table>\n",
              "</div>"
            ],
            "text/plain": [
              "             LALVOTERID General_2016_11_08 Voters_Gender Voters_FIPS  \\\n",
              "4506497    LALVA4381855                  Y             F         710   \n",
              "3220820    LALVA1954212                  Y             M         161   \n",
              "745576      LALVA738960                  Y             M         041   \n",
              "2152787  LALVA471745169                  Y             M         093   \n",
              "3196996  LALVA398865370                NaN             M         161   \n",
              "\n",
              "         lat_jitter  long_jitter  \n",
              "4506497   36.810290   -76.255566  \n",
              "3220820   37.255338   -80.044706  \n",
              "745576    37.505897   -77.576737  \n",
              "2152787   36.955577   -76.638565  \n",
              "3196996   37.181218   -79.913420  "
            ]
          },
          "metadata": {
            "tags": []
          },
          "execution_count": 14
        }
      ]
    },
    {
      "cell_type": "markdown",
      "metadata": {
        "id": "uWzC7IGU3C1S"
      },
      "source": [
        "## V. Saving the Resulting Dataframe to a CSV\n",
        "\n",
        "Finally, you may want to write out the sample to a CSV, leaving out the index that Pandas creates and stipulating the encoding into utf-8"
      ]
    },
    {
      "cell_type": "code",
      "metadata": {
        "collapsed": true,
        "id": "zR7B0twR3C1T"
      },
      "source": [
        "stripped_sample.to_csv(r'virginia-onepercent-sample.csv', index=False, encoding='utf-8')"
      ],
      "execution_count": null,
      "outputs": []
    },
    {
      "cell_type": "markdown",
      "metadata": {
        "id": "q8PllR4c3C1T"
      },
      "source": [
        "In the course of your analysis, you may want to repeat this process for multiple states and/or develop an aggregate roster of voters culled from a subset. You are encouraged to visit the tools section on the [L2 Political LibGuide at NYU Libraries](https://guides.nyu.edu/l2political/tools).\n",
        "\n",
        "In general, you should have a data management plan with these files that includes the following elements:\n",
        "\n",
        "- Secure any original .tab files you've downloaded by storing them in a single directory location, and then deleting the original .tab files once you've generated extracts\n",
        "- Manage your extracted samples in a secure environment\n",
        "\n",
        "Simple scripts and suggestions are available on the L2 Political LibGuide. \n"
      ]
    }
  ]
}
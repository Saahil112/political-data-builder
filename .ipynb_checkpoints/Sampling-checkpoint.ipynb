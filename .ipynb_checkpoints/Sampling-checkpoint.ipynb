{
 "cells": [
  {
   "cell_type": "code",
   "execution_count": 3,
   "metadata": {},
   "outputs": [
    {
     "ename": "ModuleNotFoundError",
     "evalue": "No module named 'Extraction'",
     "output_type": "error",
     "traceback": [
      "\u001b[1;31m---------------------------------------------------------------------------\u001b[0m",
      "\u001b[1;31mModuleNotFoundError\u001b[0m                       Traceback (most recent call last)",
      "\u001b[1;32m<ipython-input-3-709116b042dd>\u001b[0m in \u001b[0;36m<module>\u001b[1;34m\u001b[0m\n\u001b[0;32m      1\u001b[0m \u001b[1;31m#Import that data frames dictionary as well as all of the imports\u001b[0m\u001b[1;33m\u001b[0m\u001b[1;33m\u001b[0m\u001b[1;33m\u001b[0m\u001b[0m\n\u001b[1;32m----> 2\u001b[1;33m \u001b[1;32mimport\u001b[0m \u001b[0mExtraction\u001b[0m\u001b[1;33m\u001b[0m\u001b[1;33m\u001b[0m\u001b[0m\n\u001b[0m",
      "\u001b[1;31mModuleNotFoundError\u001b[0m: No module named 'Extraction'"
     ]
    }
   ],
   "source": [
    "#Import that data frames dictionary as well as all of the imports\n",
    "import Extraction"
   ]
  },
  {
   "cell_type": "code",
   "execution_count": 9,
   "metadata": {},
   "outputs": [],
   "source": [
    "def merge(state_vote_history, state_demographic):\n",
    "    merged_file = pd.merge(state_vote_history, state_demographic,\n",
    "                       how='left', left_on='LALVOTERID', right_on='LALVOTERID')\n",
    "    \n",
    "    merged_file.head(5)\n",
    "    return merged_file"
   ]
  },
  {
   "cell_type": "code",
   "execution_count": 10,
   "metadata": {},
   "outputs": [],
   "source": [
    "def get_sample(file, sample_size):\n",
    "    return file.sample(frac=sample_size)\n",
    "\n",
    "#stratified sampling\n",
    "#choose equal sample sizes from each \n",
    "def build_stratified_national_sample(sample_size):\n",
    "    national_sample = get_sample(AK, sample_size)\n",
    "    for file in files:\n",
    "        national_sample = pd.concat([national_sample, get_sample(file, sample_size)], axis=0)\n",
    "\n",
    "#simple random sampling\n",
    "#choose randomly from national dataset\n",
    "def build_simple_random_national_sample(sample_size):\n",
    "    total_rows = 0\n",
    "    for file in files:\n",
    "        total_rows.append(len(file))\n",
    "    national_sample = get_sample(AK, len(AK)/total_rows)\n",
    "    for file in files:\n",
    "        national_sample = pd.concat([national_sample, get_sample(file, len(file)/total_rows)], axis = 0)\n",
    "        "
   ]
  },
  {
   "cell_type": "code",
   "execution_count": null,
   "metadata": {},
   "outputs": [],
   "source": [
    "\n"
   ]
  },
  {
   "cell_type": "code",
   "execution_count": null,
   "metadata": {},
   "outputs": [],
   "source": []
  }
 ],
 "metadata": {
  "kernelspec": {
   "display_name": "Python 3",
   "language": "python",
   "name": "python3"
  },
  "language_info": {
   "codemirror_mode": {
    "name": "ipython",
    "version": 3
   },
   "file_extension": ".py",
   "mimetype": "text/x-python",
   "name": "python",
   "nbconvert_exporter": "python",
   "pygments_lexer": "ipython3",
   "version": "3.8.3"
  }
 },
 "nbformat": 4,
 "nbformat_minor": 4
}

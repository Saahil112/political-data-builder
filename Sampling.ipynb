{
 "cells": [
  {
   "cell_type": "code",
   "execution_count": 8,
   "metadata": {},
   "outputs": [],
   "source": [
    "import pandas as pd"
   ]
  },
  {
   "cell_type": "code",
   "execution_count": 9,
   "metadata": {},
   "outputs": [],
   "source": [
    "def merge(state_vote_history, state_demographic):\n",
    "    merged_file = pd.merge(state_vote_history, state_demographic,\n",
    "                       how='left', left_on='LALVOTERID', right_on='LALVOTERID')\n",
    "    \n",
    "    merged_file.head(5)\n",
    "    return merged_file"
   ]
  },
  {
   "cell_type": "code",
   "execution_count": 10,
   "metadata": {},
   "outputs": [],
   "source": [
    "def get_sample(file, sample_size):\n",
    "    return file.sample(frac=sample_size)\n",
    "\n",
    "#stratified sampling\n",
    "#choose equal sample sizes from each \n",
    "def build_stratified_national_sample(sample_size):\n",
    "    national_sample = get_sample(AK, sample_size)\n",
    "    for file in files:\n",
    "        national_sample = pd.concat([national_sample, get_sample(file, sample_size)], axis=0)\n",
    "\n",
    "#simple random sampling\n",
    "#choose randomly from national dataset\n",
    "def build_simple_random_national_sample(sample_size):\n",
    "    total_rows = 0\n",
    "    for file in files:\n",
    "        total_rows.append(len(file))\n",
    "    national_sample = get_sample(AK, len(AK)/total_rows)\n",
    "    for file in files:\n",
    "        national_sample = pd.concat([national_sample, get_sample(file, len(file)/total_rows)], axis = 0)\n",
    "        "
   ]
  },
  {
   "cell_type": "code",
   "execution_count": null,
   "metadata": {},
   "outputs": [],
   "source": [
    "\n"
   ]
  },
  {
   "cell_type": "code",
   "execution_count": null,
   "metadata": {},
   "outputs": [],
   "source": []
  }
 ],
 "metadata": {
  "kernelspec": {
   "display_name": "Python 3",
   "language": "python",
   "name": "python3"
  },
  "language_info": {
   "codemirror_mode": {
    "name": "ipython",
    "version": 3
   },
   "file_extension": ".py",
   "mimetype": "text/x-python",
   "name": "python",
   "nbconvert_exporter": "python",
   "pygments_lexer": "ipython3",
   "version": "3.8.3"
  }
 },
 "nbformat": 4,
 "nbformat_minor": 4
}
